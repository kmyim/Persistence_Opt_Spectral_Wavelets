{
 "cells": [
  {
   "cell_type": "markdown",
   "metadata": {},
   "source": [
    "# Demonstration: Maximising Persistence\n",
    "\n",
    "We demonstrate how we can find a spectral wavelet, parametrised by a basis of chebyshev polynomials, such that the total persistence of a graph's filtration is maximised. "
   ]
  },
  {
   "cell_type": "code",
   "execution_count": 1,
   "metadata": {},
   "outputs": [],
   "source": [
    "import numpy as np\n",
    "import networkx as nx\n",
    "\n",
    "import torch\n",
    "import torch.optim as optim\n",
    "import torch.nn as nn\n",
    "\n",
    "import numpy as np\n",
    "from scipy.linalg import eigh\n",
    "\n",
    "import pickle\n",
    "\n",
    "from models import models\n",
    "from models import utils\n",
    "import numpy.polynomial.chebyshev as cheby\n",
    "\n",
    "import matplotlib.pyplot as plt"
   ]
  },
  {
   "cell_type": "markdown",
   "metadata": {},
   "source": [
    "## Choosing a Model\n",
    "\n",
    "We consider a wavelet spanned by a degree 6 chebyshev polynomial, with coefficients normalised to 1. We truncate the barcode to the 25 most persistent intervals as a computational necessity"
   ]
  },
  {
   "cell_type": "code",
   "execution_count": 2,
   "metadata": {},
   "outputs": [],
   "source": [
    "cheby_degree = 6\n",
    "max_intervals = 100"
   ]
  },
  {
   "cell_type": "markdown",
   "metadata": {},
   "source": [
    "## Loading the data\n"
   ]
  },
  {
   "cell_type": "code",
   "execution_count": 61,
   "metadata": {},
   "outputs": [
    {
     "name": "stdout",
     "output_type": "stream",
     "text": [
      "The COX2 dataset has  467  graphs.\n"
     ]
    }
   ],
   "source": [
    "dataset_name = 'COX2'\n",
    "\n",
    "graph_list = pickle.load(open('data_example/' + dataset_name + '/networkx_graphs.pkl', 'rb'))\n",
    "\n",
    "print('The ' + dataset_name + ' dataset has ', len(graph_list), ' graphs.')"
   ]
  },
  {
   "cell_type": "markdown",
   "metadata": {},
   "source": [
    "## Preprocess the data\n",
    "\n",
    "The ChebyshevWavelets pytorch module takes in a list of dictionaries, each dictionary representing the necessary data to compute spectral wavelets.\n",
    "\n",
    "The dictionary contains the following fields:\n",
    "- 'chebyshev': an intermediary matrix (num vertices) x (chebyshev degree) for computations; the vertex values of the filtration are given by the product of this matrix with the vector of chebyshev coefficients\n",
    "- 'simplex_tree': the Gudhi representation of a simplicial complex"
   ]
  },
  {
   "cell_type": "code",
   "execution_count": 62,
   "metadata": {},
   "outputs": [
    {
     "name": "stdout",
     "output_type": "stream",
     "text": [
      "Finished initial processing\n"
     ]
    }
   ],
   "source": [
    "data = []\n",
    "for i in range(len(graph_list)):\n",
    "    \n",
    "    G = graph_list[i]\n",
    "    datum = dict()\n",
    "    L = nx.normalized_laplacian_matrix(G)\n",
    "    w, v = eigh(L.todense()) #computes eigenvalues w and eigenvectors\n",
    "    vandermonde = cheby.chebvander(w.flatten()-1, cheby_degree)\n",
    "    datum['chebyshev'] = torch.from_numpy(np.matmul(v**2, vandermonde[:, 1:])).float()\n",
    "\n",
    "    hks = np.matmul(v**2,  np.exp(-0.1*w)).flatten() #random initial filtration for the simplex_tree\n",
    "    st = utils.simplex_tree_constructor([list(e) for e in G.edges()])\n",
    "    datum['simplex_tree'] = utils.filtration_update(st, hks)\n",
    "    data.append(datum)\n",
    "print('Finished initial processing')\n",
    "del graph_list\n"
   ]
  },
  {
   "cell_type": "markdown",
   "metadata": {},
   "source": [
    "## Experiment Design\n",
    "\n",
    "### Tenfolding\n",
    "\n",
    "We find a set of chebyshev coefficients that maximise the average $L^2$-persistence of the graph barcodes across the dataset\n",
    "\n",
    "We perform a ten-fold cross validation. In a ten-fold, we randomly partition the dataset into 10 portions. We perform the maximisation across 9 portions and then validate the learnt parameters on the remaining portion. We cycle through the ten portions so that each portion is the validation set once.\n",
    "\n",
    "Normally in machine learning practices, we conduct 10 ten-folds and average across all 100 validation measures, but in the interest of time we only perform one ten-fold in this demo."
   ]
  },
  {
   "cell_type": "code",
   "execution_count": 10,
   "metadata": {},
   "outputs": [
    {
     "ename": "NameError",
     "evalue": "name 'data' is not defined",
     "output_type": "error",
     "traceback": [
      "\u001b[0;31m---------------------------------------------------------------------------\u001b[0m",
      "\u001b[0;31mNameError\u001b[0m                                 Traceback (most recent call last)",
      "\u001b[0;32m<ipython-input-10-1e525c20f433>\u001b[0m in \u001b[0;36m<module>\u001b[0;34m()\u001b[0m\n\u001b[0;32m----> 1\u001b[0;31m \u001b[0mdata_len\u001b[0m \u001b[0;34m=\u001b[0m \u001b[0mlen\u001b[0m\u001b[0;34m(\u001b[0m\u001b[0mdata\u001b[0m\u001b[0;34m)\u001b[0m\u001b[0;34m\u001b[0m\u001b[0;34m\u001b[0m\u001b[0m\n\u001b[0m\u001b[1;32m      2\u001b[0m \u001b[0mtest_size\u001b[0m \u001b[0;34m=\u001b[0m \u001b[0mdata_len\u001b[0m \u001b[0;34m//\u001b[0m \u001b[0;36m10\u001b[0m\u001b[0;34m\u001b[0m\u001b[0;34m\u001b[0m\u001b[0m\n\u001b[1;32m      3\u001b[0m \u001b[0mtrain_size\u001b[0m \u001b[0;34m=\u001b[0m \u001b[0mdata_len\u001b[0m \u001b[0;34m-\u001b[0m \u001b[0mtest_size\u001b[0m\u001b[0;34m\u001b[0m\u001b[0;34m\u001b[0m\u001b[0m\n",
      "\u001b[0;31mNameError\u001b[0m: name 'data' is not defined"
     ]
    }
   ],
   "source": [
    "data_len = len(data)\n",
    "test_size = data_len // 10\n",
    "train_size = data_len - test_size"
   ]
  },
  {
   "cell_type": "markdown",
   "metadata": {},
   "source": [
    "### Optimisation using PyTorch tools\n",
    "We specify the batch size and the number of epochs. We use stochastic gradient descent."
   ]
  },
  {
   "cell_type": "code",
   "execution_count": 14,
   "metadata": {},
   "outputs": [
    {
     "name": "stdout",
     "output_type": "stream",
     "text": [
      "num points =  467  number of batches =  12  batch size =  36  test size  46\n"
     ]
    }
   ],
   "source": [
    "bs = {'COX2': 36, 'MUTAG': 17, 'DHFR': 31}\n",
    "dl = {'COX2': 467, 'MUTAG': 188, 'DHFR': 756}\n",
    "batch_size = bs[dataset_name]\n",
    "data_len = dl[dataset_name]\n",
    "test_size = data_len // 10\n",
    "train_size = data_len - test_size\n",
    "### training parameters #####\n",
    "#batch_size = 31 #DHFR\n",
    "#batch_size = 17 #MUTAG\n",
    "#batch_size = 36 #COX2\n",
    "#batch_size = 90 #IMDB-BINARY\n",
    "#batch_size = 137 #NCI1\n",
    "\n",
    "train_batches = np.ceil((data_len-test_size)/batch_size).astype(int)\n",
    "max_epoch = 10\n",
    "\n",
    "print('num points = ', data_len, ' number of batches = ', train_batches, ' batch size = ', batch_size, ' test size ', test_size)"
   ]
  },
  {
   "cell_type": "code",
   "execution_count": 7,
   "metadata": {},
   "outputs": [
    {
     "name": "stdout",
     "output_type": "stream",
     "text": [
      "> fold  0\n",
      "> fold  1\n",
      "> fold  2\n",
      "> fold  3\n",
      "> fold  4\n",
      "> fold  5\n",
      "> fold  6\n",
      "> fold  7\n",
      "> fold  8\n",
      "> fold  9\n",
      "> fold  0\n"
     ]
    },
    {
     "ename": "KeyboardInterrupt",
     "evalue": "",
     "output_type": "error",
     "traceback": [
      "\u001b[0;31m---------------------------------------------------------------------------\u001b[0m",
      "\u001b[0;31mKeyboardInterrupt\u001b[0m                         Traceback (most recent call last)",
      "\u001b[0;32m<ipython-input-7-134d4ef831f4>\u001b[0m in \u001b[0;36m<module>\u001b[0;34m()\u001b[0m\n\u001b[1;32m     39\u001b[0m                 \u001b[0mtrain_indices_batch\u001b[0m \u001b[0;34m=\u001b[0m \u001b[0mtrain_indices\u001b[0m\u001b[0;34m[\u001b[0m\u001b[0mb\u001b[0m\u001b[0;34m*\u001b[0m\u001b[0mbatch_size\u001b[0m \u001b[0;34m:\u001b[0m \u001b[0;34m(\u001b[0m\u001b[0mb\u001b[0m\u001b[0;34m+\u001b[0m\u001b[0;36m1\u001b[0m\u001b[0;34m)\u001b[0m\u001b[0;34m*\u001b[0m\u001b[0mbatch_size\u001b[0m \u001b[0;34m]\u001b[0m\u001b[0;34m\u001b[0m\u001b[0;34m\u001b[0m\u001b[0m\n\u001b[1;32m     40\u001b[0m                 \u001b[0moptimizer\u001b[0m\u001b[0;34m.\u001b[0m\u001b[0mzero_grad\u001b[0m\u001b[0;34m(\u001b[0m\u001b[0;34m)\u001b[0m\u001b[0;34m\u001b[0m\u001b[0;34m\u001b[0m\u001b[0m\n\u001b[0;32m---> 41\u001b[0;31m                 \u001b[0mbirths\u001b[0m\u001b[0;34m,\u001b[0m \u001b[0mdeaths\u001b[0m \u001b[0;34m=\u001b[0m \u001b[0mbarcodes\u001b[0m\u001b[0;34m(\u001b[0m\u001b[0;34m[\u001b[0m\u001b[0mdata\u001b[0m\u001b[0;34m[\u001b[0m\u001b[0mi\u001b[0m\u001b[0;34m]\u001b[0m \u001b[0;32mfor\u001b[0m \u001b[0mi\u001b[0m \u001b[0;32min\u001b[0m \u001b[0mtrain_indices\u001b[0m\u001b[0;34m]\u001b[0m\u001b[0;34m)\u001b[0m\u001b[0;34m\u001b[0m\u001b[0;34m\u001b[0m\u001b[0m\n\u001b[0m\u001b[1;32m     42\u001b[0m                 \u001b[0mloss\u001b[0m \u001b[0;34m=\u001b[0m \u001b[0;34m-\u001b[0m\u001b[0mtorch\u001b[0m\u001b[0;34m.\u001b[0m\u001b[0msum\u001b[0m\u001b[0;34m(\u001b[0m\u001b[0;34m(\u001b[0m\u001b[0mdeaths\u001b[0m \u001b[0;34m-\u001b[0m \u001b[0mbirths\u001b[0m\u001b[0;34m)\u001b[0m\u001b[0;34m**\u001b[0m\u001b[0;36m2\u001b[0m\u001b[0;34m)\u001b[0m\u001b[0;34m/\u001b[0m\u001b[0mtrain_size\u001b[0m\u001b[0;34m\u001b[0m\u001b[0;34m\u001b[0m\u001b[0m\n\u001b[1;32m     43\u001b[0m                 \u001b[0mloss\u001b[0m\u001b[0;34m.\u001b[0m\u001b[0mbackward\u001b[0m\u001b[0;34m(\u001b[0m\u001b[0;34m)\u001b[0m\u001b[0;34m\u001b[0m\u001b[0;34m\u001b[0m\u001b[0m\n",
      "\u001b[0;32m~/anaconda3/lib/python3.6/site-packages/torch/nn/modules/module.py\u001b[0m in \u001b[0;36m__call__\u001b[0;34m(self, *input, **kwargs)\u001b[0m\n\u001b[1;32m    530\u001b[0m             \u001b[0mresult\u001b[0m \u001b[0;34m=\u001b[0m \u001b[0mself\u001b[0m\u001b[0;34m.\u001b[0m\u001b[0m_slow_forward\u001b[0m\u001b[0;34m(\u001b[0m\u001b[0;34m*\u001b[0m\u001b[0minput\u001b[0m\u001b[0;34m,\u001b[0m \u001b[0;34m**\u001b[0m\u001b[0mkwargs\u001b[0m\u001b[0;34m)\u001b[0m\u001b[0;34m\u001b[0m\u001b[0;34m\u001b[0m\u001b[0m\n\u001b[1;32m    531\u001b[0m         \u001b[0;32melse\u001b[0m\u001b[0;34m:\u001b[0m\u001b[0;34m\u001b[0m\u001b[0;34m\u001b[0m\u001b[0m\n\u001b[0;32m--> 532\u001b[0;31m             \u001b[0mresult\u001b[0m \u001b[0;34m=\u001b[0m \u001b[0mself\u001b[0m\u001b[0;34m.\u001b[0m\u001b[0mforward\u001b[0m\u001b[0;34m(\u001b[0m\u001b[0;34m*\u001b[0m\u001b[0minput\u001b[0m\u001b[0;34m,\u001b[0m \u001b[0;34m**\u001b[0m\u001b[0mkwargs\u001b[0m\u001b[0;34m)\u001b[0m\u001b[0;34m\u001b[0m\u001b[0;34m\u001b[0m\u001b[0m\n\u001b[0m\u001b[1;32m    533\u001b[0m         \u001b[0;32mfor\u001b[0m \u001b[0mhook\u001b[0m \u001b[0;32min\u001b[0m \u001b[0mself\u001b[0m\u001b[0;34m.\u001b[0m\u001b[0m_forward_hooks\u001b[0m\u001b[0;34m.\u001b[0m\u001b[0mvalues\u001b[0m\u001b[0;34m(\u001b[0m\u001b[0;34m)\u001b[0m\u001b[0;34m:\u001b[0m\u001b[0;34m\u001b[0m\u001b[0;34m\u001b[0m\u001b[0m\n\u001b[1;32m    534\u001b[0m             \u001b[0mhook_result\u001b[0m \u001b[0;34m=\u001b[0m \u001b[0mhook\u001b[0m\u001b[0;34m(\u001b[0m\u001b[0mself\u001b[0m\u001b[0;34m,\u001b[0m \u001b[0minput\u001b[0m\u001b[0;34m,\u001b[0m \u001b[0mresult\u001b[0m\u001b[0;34m)\u001b[0m\u001b[0;34m\u001b[0m\u001b[0;34m\u001b[0m\u001b[0m\n",
      "\u001b[0;32m~/Documents/Persistence_Opt_Spectral_Wavelets/models/models.py\u001b[0m in \u001b[0;36mforward\u001b[0;34m(self, mb)\u001b[0m\n\u001b[1;32m     76\u001b[0m             \u001b[0mdeathv\u001b[0m \u001b[0;34m=\u001b[0m \u001b[0;34m[\u001b[0m\u001b[0;34m[\u001b[0m\u001b[0;34m]\u001b[0m\u001b[0;34m,\u001b[0m\u001b[0;34m[\u001b[0m\u001b[0;34m]\u001b[0m\u001b[0;34m,\u001b[0m\u001b[0;34m[\u001b[0m\u001b[0;34m]\u001b[0m\u001b[0;34m]\u001b[0m\u001b[0;34m\u001b[0m\u001b[0;34m\u001b[0m\u001b[0m\n\u001b[1;32m     77\u001b[0m             \u001b[0;31m#recompute persistence\u001b[0m\u001b[0;34m\u001b[0m\u001b[0;34m\u001b[0m\u001b[0;34m\u001b[0m\u001b[0m\n\u001b[0;32m---> 78\u001b[0;31m             \u001b[0mdatum\u001b[0m\u001b[0;34m[\u001b[0m\u001b[0;34m'simplex_tree'\u001b[0m\u001b[0;34m]\u001b[0m \u001b[0;34m=\u001b[0m \u001b[0mutils\u001b[0m\u001b[0;34m.\u001b[0m\u001b[0mfiltration_update\u001b[0m\u001b[0;34m(\u001b[0m\u001b[0mdatum\u001b[0m\u001b[0;34m[\u001b[0m\u001b[0;34m'simplex_tree'\u001b[0m\u001b[0;34m]\u001b[0m\u001b[0;34m,\u001b[0m \u001b[0mf\u001b[0m\u001b[0;34m.\u001b[0m\u001b[0mdetach\u001b[0m\u001b[0;34m(\u001b[0m\u001b[0;34m)\u001b[0m\u001b[0;34m.\u001b[0m\u001b[0mnumpy\u001b[0m\u001b[0;34m(\u001b[0m\u001b[0;34m)\u001b[0m\u001b[0;34m)\u001b[0m\u001b[0;34m\u001b[0m\u001b[0;34m\u001b[0m\u001b[0m\n\u001b[0m\u001b[1;32m     79\u001b[0m             \u001b[0mpers\u001b[0m \u001b[0;34m=\u001b[0m \u001b[0mdatum\u001b[0m\u001b[0;34m[\u001b[0m\u001b[0;34m'simplex_tree'\u001b[0m\u001b[0;34m]\u001b[0m\u001b[0;34m.\u001b[0m\u001b[0mpersistence\u001b[0m\u001b[0;34m(\u001b[0m\u001b[0mhomology_coeff_field\u001b[0m \u001b[0;34m=\u001b[0m \u001b[0;36m2\u001b[0m\u001b[0;34m)\u001b[0m\u001b[0;34m\u001b[0m\u001b[0;34m\u001b[0m\u001b[0m\n\u001b[1;32m     80\u001b[0m \u001b[0;34m\u001b[0m\u001b[0m\n",
      "\u001b[0;32m~/Documents/Persistence_Opt_Spectral_Wavelets/models/utils.py\u001b[0m in \u001b[0;36mfiltration_update\u001b[0;34m(st, f)\u001b[0m\n\u001b[1;32m     64\u001b[0m \u001b[0;34m\u001b[0m\u001b[0m\n\u001b[1;32m     65\u001b[0m     \u001b[0;32mfor\u001b[0m \u001b[0ms\u001b[0m \u001b[0;32min\u001b[0m \u001b[0mst\u001b[0m\u001b[0;34m.\u001b[0m\u001b[0mget_cofaces\u001b[0m\u001b[0;34m(\u001b[0m\u001b[0;34m[\u001b[0m\u001b[0;36m1000\u001b[0m\u001b[0;34m]\u001b[0m\u001b[0;34m,\u001b[0m \u001b[0mcodimension\u001b[0m \u001b[0;34m=\u001b[0m \u001b[0;36m1\u001b[0m\u001b[0;34m)\u001b[0m\u001b[0;34m:\u001b[0m\u001b[0;34m\u001b[0m\u001b[0;34m\u001b[0m\u001b[0m\n\u001b[0;32m---> 66\u001b[0;31m         \u001b[0;32mif\u001b[0m \u001b[0mlen\u001b[0m\u001b[0;34m(\u001b[0m\u001b[0ms\u001b[0m\u001b[0;34m[\u001b[0m\u001b[0;36m0\u001b[0m\u001b[0;34m]\u001b[0m\u001b[0;34m)\u001b[0m \u001b[0;34m==\u001b[0m \u001b[0;36m2\u001b[0m\u001b[0;34m:\u001b[0m \u001b[0mst\u001b[0m\u001b[0;34m.\u001b[0m\u001b[0massign_filtration\u001b[0m\u001b[0;34m(\u001b[0m\u001b[0msimplex\u001b[0m \u001b[0;34m=\u001b[0m \u001b[0ms\u001b[0m\u001b[0;34m[\u001b[0m\u001b[0;36m0\u001b[0m\u001b[0;34m]\u001b[0m\u001b[0;34m,\u001b[0m \u001b[0mfiltration\u001b[0m \u001b[0;34m=\u001b[0m \u001b[0;36m100000000\u001b[0m \u001b[0;34m-\u001b[0m \u001b[0mmin\u001b[0m\u001b[0;34m(\u001b[0m\u001b[0mf\u001b[0m\u001b[0;34m[\u001b[0m\u001b[0mv\u001b[0m\u001b[0;34m]\u001b[0m \u001b[0;32mfor\u001b[0m \u001b[0mv\u001b[0m \u001b[0;32min\u001b[0m \u001b[0ms\u001b[0m\u001b[0;34m[\u001b[0m\u001b[0;36m0\u001b[0m\u001b[0;34m]\u001b[0m \u001b[0;32mif\u001b[0m \u001b[0mv\u001b[0m \u001b[0;34m!=\u001b[0m \u001b[0;36m1000\u001b[0m\u001b[0;34m)\u001b[0m\u001b[0;34m)\u001b[0m\u001b[0;34m\u001b[0m\u001b[0;34m\u001b[0m\u001b[0m\n\u001b[0m\u001b[1;32m     67\u001b[0m \u001b[0;34m\u001b[0m\u001b[0m\n\u001b[1;32m     68\u001b[0m     \u001b[0mst\u001b[0m\u001b[0;34m.\u001b[0m\u001b[0minitialize_filtration\u001b[0m\u001b[0;34m(\u001b[0m\u001b[0;34m)\u001b[0m\u001b[0;34m\u001b[0m\u001b[0;34m\u001b[0m\u001b[0m\n",
      "\u001b[0;32m~/Documents/Persistence_Opt_Spectral_Wavelets/models/utils.py\u001b[0m in \u001b[0;36m<genexpr>\u001b[0;34m(.0)\u001b[0m\n\u001b[1;32m     64\u001b[0m \u001b[0;34m\u001b[0m\u001b[0m\n\u001b[1;32m     65\u001b[0m     \u001b[0;32mfor\u001b[0m \u001b[0ms\u001b[0m \u001b[0;32min\u001b[0m \u001b[0mst\u001b[0m\u001b[0;34m.\u001b[0m\u001b[0mget_cofaces\u001b[0m\u001b[0;34m(\u001b[0m\u001b[0;34m[\u001b[0m\u001b[0;36m1000\u001b[0m\u001b[0;34m]\u001b[0m\u001b[0;34m,\u001b[0m \u001b[0mcodimension\u001b[0m \u001b[0;34m=\u001b[0m \u001b[0;36m1\u001b[0m\u001b[0;34m)\u001b[0m\u001b[0;34m:\u001b[0m\u001b[0;34m\u001b[0m\u001b[0;34m\u001b[0m\u001b[0m\n\u001b[0;32m---> 66\u001b[0;31m         \u001b[0;32mif\u001b[0m \u001b[0mlen\u001b[0m\u001b[0;34m(\u001b[0m\u001b[0ms\u001b[0m\u001b[0;34m[\u001b[0m\u001b[0;36m0\u001b[0m\u001b[0;34m]\u001b[0m\u001b[0;34m)\u001b[0m \u001b[0;34m==\u001b[0m \u001b[0;36m2\u001b[0m\u001b[0;34m:\u001b[0m \u001b[0mst\u001b[0m\u001b[0;34m.\u001b[0m\u001b[0massign_filtration\u001b[0m\u001b[0;34m(\u001b[0m\u001b[0msimplex\u001b[0m \u001b[0;34m=\u001b[0m \u001b[0ms\u001b[0m\u001b[0;34m[\u001b[0m\u001b[0;36m0\u001b[0m\u001b[0;34m]\u001b[0m\u001b[0;34m,\u001b[0m \u001b[0mfiltration\u001b[0m \u001b[0;34m=\u001b[0m \u001b[0;36m100000000\u001b[0m \u001b[0;34m-\u001b[0m \u001b[0mmin\u001b[0m\u001b[0;34m(\u001b[0m\u001b[0mf\u001b[0m\u001b[0;34m[\u001b[0m\u001b[0mv\u001b[0m\u001b[0;34m]\u001b[0m \u001b[0;32mfor\u001b[0m \u001b[0mv\u001b[0m \u001b[0;32min\u001b[0m \u001b[0ms\u001b[0m\u001b[0;34m[\u001b[0m\u001b[0;36m0\u001b[0m\u001b[0;34m]\u001b[0m \u001b[0;32mif\u001b[0m \u001b[0mv\u001b[0m \u001b[0;34m!=\u001b[0m \u001b[0;36m1000\u001b[0m\u001b[0;34m)\u001b[0m\u001b[0;34m)\u001b[0m\u001b[0;34m\u001b[0m\u001b[0;34m\u001b[0m\u001b[0m\n\u001b[0m\u001b[1;32m     67\u001b[0m \u001b[0;34m\u001b[0m\u001b[0m\n\u001b[1;32m     68\u001b[0m     \u001b[0mst\u001b[0m\u001b[0;34m.\u001b[0m\u001b[0minitialize_filtration\u001b[0m\u001b[0;34m(\u001b[0m\u001b[0;34m)\u001b[0m\u001b[0;34m\u001b[0m\u001b[0;34m\u001b[0m\u001b[0m\n",
      "\u001b[0;31mKeyboardInterrupt\u001b[0m: "
     ]
    }
   ],
   "source": [
    "p_tracker = []\n",
    "tt_loss = []\n",
    "tn_loss = []\n",
    "torch.manual_seed(99)\n",
    "rng_state= torch.get_rng_state() #seed init to ensure same initial conditions for each training\n",
    "\n",
    "for split in range(10):\n",
    "    \n",
    "    np.random.seed(split)\n",
    "    shuffidx = list(range(data_len)) # data indexer\n",
    "    np.random.shuffle(shuffidx)\n",
    "\n",
    "    ####### torch random seeds #######\n",
    "\n",
    "    for fold in range(10):\n",
    "        print ('> fold ', fold)\n",
    "\n",
    "        param_tracker = []\n",
    "        test_loss = []\n",
    "        train_loss = []\n",
    "\n",
    "        test_bottom = fold * test_size\n",
    "        test_top = (1+fold) * test_size\n",
    "        test_indices = shuffidx[test_bottom : test_top]\n",
    "        train_indices = shuffidx[0:test_bottom] + shuffidx[test_top :]\n",
    "\n",
    "        torch.set_rng_state(rng_state) #fix init state\n",
    "        barcodes = models.ChebyshevWavelets(cheby_degree = cheby_degree, max_intervals = max_intervals)\n",
    "        param_tracker.append(list(barcodes.cheby_params.detach().flatten().numpy()))\n",
    "\n",
    "        optimizer = optim.SGD(barcodes.parameters(), lr=1e-3, weight_decay = 0.0)\n",
    "\n",
    "        for epoch in range(max_epoch):\n",
    "\n",
    "            barcodes.train()\n",
    "            #np.random.shuffle(train_indices)\n",
    "            for b in range(train_batches):\n",
    "\n",
    "                train_indices_batch = train_indices[b*batch_size : (b+1)*batch_size ]\n",
    "                optimizer.zero_grad()\n",
    "                births, deaths = barcodes([data[i] for i in train_indices])\n",
    "                loss = -torch.sum((deaths - births)**2)/train_size\n",
    "                loss.backward()\n",
    "\n",
    "                optimizer.step()\n",
    "\n",
    "            barcodes.eval()\n",
    "            param_tracker.append(list(barcodes.cheby_params.detach().flatten().numpy()))\n",
    "\n",
    "\n",
    "            barcodes.eval()\n",
    "            b,d = barcodes([data[i] for i in train_indices])\n",
    "            tnl = torch.sum((d- b)**2)/train_size\n",
    "            b,d  = barcodes([data[i] for i in test_indices])\n",
    "            ttl = torch.sum((d- b)**2)/test_size\n",
    "            test_loss.append(ttl.detach().numpy())\n",
    "            train_loss.append(tnl.detach().numpy())\n",
    "\n",
    "            if epoch == max_epoch:\n",
    "                print(epoch, param_tracker[-1])\n",
    "                print('train: ', train_loss[-1])\n",
    "                print('test: ',test_loss[-1])\n",
    "\n",
    "        p_tracker.append(param_tracker)\n",
    "        tt_loss.append(test_loss)\n",
    "        tn_loss.append(train_loss)"
   ]
  },
  {
   "cell_type": "code",
   "execution_count": 8,
   "metadata": {},
   "outputs": [],
   "source": [
    "tt_loss = np.array(tt_loss)\n",
    "tn_loss = np.array(tn_loss)"
   ]
  },
  {
   "cell_type": "code",
   "execution_count": 9,
   "metadata": {},
   "outputs": [
    {
     "ename": "NameError",
     "evalue": "name 'train_errors' is not defined",
     "output_type": "error",
     "traceback": [
      "\u001b[0;31m---------------------------------------------------------------------------\u001b[0m",
      "\u001b[0;31mNameError\u001b[0m                                 Traceback (most recent call last)",
      "\u001b[0;32m<ipython-input-9-1df3e77b9822>\u001b[0m in \u001b[0;36m<module>\u001b[0;34m()\u001b[0m\n\u001b[0;32m----> 1\u001b[0;31m \u001b[0mnp\u001b[0m\u001b[0;34m.\u001b[0m\u001b[0mshape\u001b[0m\u001b[0;34m(\u001b[0m\u001b[0mtrain_errors\u001b[0m\u001b[0;34m)\u001b[0m\u001b[0;34m\u001b[0m\u001b[0;34m\u001b[0m\u001b[0m\n\u001b[0m",
      "\u001b[0;31mNameError\u001b[0m: name 'train_errors' is not defined"
     ]
    }
   ],
   "source": [
    "np.shape(train_errors)"
   ]
  },
  {
   "cell_type": "code",
   "execution_count": 10,
   "metadata": {},
   "outputs": [
    {
     "ename": "NameError",
     "evalue": "name 'train_errors' is not defined",
     "output_type": "error",
     "traceback": [
      "\u001b[0;31m---------------------------------------------------------------------------\u001b[0m",
      "\u001b[0;31mNameError\u001b[0m                                 Traceback (most recent call last)",
      "\u001b[0;32m<ipython-input-10-37aee235bf5c>\u001b[0m in \u001b[0;36m<module>\u001b[0;34m()\u001b[0m\n\u001b[0;32m----> 1\u001b[0;31m \u001b[0mplt\u001b[0m\u001b[0;34m.\u001b[0m\u001b[0mplot\u001b[0m\u001b[0;34m(\u001b[0m\u001b[0mtrain_errors\u001b[0m\u001b[0;34m[\u001b[0m\u001b[0;36m1\u001b[0m\u001b[0;34m]\u001b[0m  \u001b[0;34m-\u001b[0m \u001b[0mtrain_errors\u001b[0m\u001b[0;34m[\u001b[0m\u001b[0;36m0\u001b[0m\u001b[0;34m]\u001b[0m\u001b[0;34m)\u001b[0m\u001b[0;34m\u001b[0m\u001b[0;34m\u001b[0m\u001b[0m\n\u001b[0m",
      "\u001b[0;31mNameError\u001b[0m: name 'train_errors' is not defined"
     ]
    }
   ],
   "source": [
    "plt.plot(train_errors[1]  - train_errors[0])"
   ]
  },
  {
   "cell_type": "code",
   "execution_count": 11,
   "metadata": {},
   "outputs": [],
   "source": [
    "mean_test = np.mean(tt_loss, axis=0)\n",
    "std_test = np.std(tt_loss, axis=0)\n",
    "\n",
    "mean_train =np.mean(tn_loss, axis=0)\n",
    "std_train = np.std(tn_loss, axis=0)\n"
   ]
  },
  {
   "cell_type": "code",
   "execution_count": 3,
   "metadata": {},
   "outputs": [],
   "source": [
    "dataset_name = 'COX2'\n",
    "tt_loss, tn_loss = pickle.load(open(dataset_name + '_tp2.pkl', 'rb'))"
   ]
  },
  {
   "cell_type": "code",
   "execution_count": 4,
   "metadata": {},
   "outputs": [],
   "source": [
    "tt_loss = np.array(tt_loss)\n",
    "tn_loss = np.array(tn_loss)\n",
    "\n",
    "median_test = np.median(tt_loss, axis=0)\n",
    "median_train =np.median(tn_loss, axis=0)\n"
   ]
  },
  {
   "cell_type": "code",
   "execution_count": 5,
   "metadata": {},
   "outputs": [],
   "source": [
    "test_errors = np.abs(np.quantile(tt_loss, [0.05, 0.95], axis =0) - median_test)\n",
    "train_errors = np.abs(np.quantile(tn_loss, [0.05, 0.95], axis =0) - median_train)"
   ]
  },
  {
   "cell_type": "code",
   "execution_count": 6,
   "metadata": {},
   "outputs": [
    {
     "data": {
      "text/plain": [
       "(10,)"
      ]
     },
     "execution_count": 6,
     "metadata": {},
     "output_type": "execute_result"
    }
   ],
   "source": [
    "np.shape(median_test)"
   ]
  },
  {
   "cell_type": "code",
   "execution_count": 7,
   "metadata": {},
   "outputs": [],
   "source": [
    "plt.rcParams.update({'font.size': 18})"
   ]
  },
  {
   "cell_type": "markdown",
   "metadata": {},
   "source": [
    "We see that the optimisation has converged to a local optimum and the test "
   ]
  },
  {
   "cell_type": "code",
   "execution_count": 17,
   "metadata": {},
   "outputs": [
    {
     "data": {
      "text/plain": [
       "<matplotlib.legend.Legend at 0x7f1f4c5472e8>"
      ]
     },
     "execution_count": 17,
     "metadata": {},
     "output_type": "execute_result"
    },
    {
     "data": {
      "image/png": "[encoded data removed]",
      "text/plain": [
       "<matplotlib.figure.Figure at 0x7f1f4e837e80>"
      ]
     },
     "metadata": {},
     "output_type": "display_data"
    }
   ],
   "source": [
    "#plt.plot(mean_test, label = 'test mean')\n",
    "#plt.plot(mean_train, label = 'train mean')\n",
    "\n",
    "plt.figure(figsize = [10, 6])\n",
    "plt.xlabel('epochs')\n",
    "plt.ylabel(r'$TP_2$')\n",
    "plt.title('COX2')\n",
    "x = np.linspace(0, (len(median_test)-1)*train_batches, len(median_test))\n",
    "\n",
    "plt.errorbar(x, median_test, yerr = test_errors, color = 'tab:blue', label = 'Test', capsize = 5)\n",
    "plt.errorbar(x, median_train, yerr = train_errors, color ='tab:orange', label = 'Train', capsize = 5)\n",
    "\n",
    "#for i in range(100):\n",
    "#    plt.plot(tt_loss[i], '.', color = 'tab:blue')\n",
    "#    plt.plot(tn_loss[i], '.', color = 'tab:orange')\n",
    "plt.legend(loc = 4)\n",
    "#plt.savefig(dataset_name + '.pdf', dpi = 300)"
   ]
  },
  {
   "cell_type": "code",
   "execution_count": 18,
   "metadata": {},
   "outputs": [],
   "source": [
    "tt_loss_cox2, tn_loss_cox2 = pickle.load(open('COX2_tp2.pkl', 'rb'))\n",
    "tt_loss_mutag, tn_loss_mutag = pickle.load(open('MUTAG_tp2.pkl', 'rb'))"
   ]
  },
  {
   "cell_type": "code",
   "execution_count": 19,
   "metadata": {},
   "outputs": [],
   "source": [
    "tt_loss_cox2 = np.array(tt_loss_cox2)\n",
    "tn_loss_cox2 = np.array(tn_loss_cox2)\n",
    "\n",
    "median_test_cox2 = np.median(tt_loss_cox2, axis=0)\n",
    "median_train_cox2 =np.median(tn_loss_cox2, axis=0)\n",
    "\n",
    "\n",
    "tt_loss_mutag = np.array(tt_loss_mutag)\n",
    "tn_loss_mutag = np.array(tn_loss_mutag)\n",
    "\n",
    "median_test_mutag = np.median(tt_loss_mutag, axis=0)\n",
    "median_train_mutag =np.median(tn_loss_mutag, axis=0)"
   ]
  },
  {
   "cell_type": "code",
   "execution_count": 20,
   "metadata": {},
   "outputs": [],
   "source": [
    "test_errors_cox2 = np.abs(np.quantile(tt_loss_cox2, [0.05, 0.95], axis =0) - median_test_cox2)\n",
    "train_errors_cox2 = np.abs(np.quantile(tn_loss_cox2, [0.05, 0.95], axis =0) - median_train_cox2)\n",
    "test_errors_mutag = np.abs(np.quantile(tt_loss_mutag, [0.05, 0.95], axis =0) - median_test_mutag)\n",
    "train_errors_mutag = np.abs(np.quantile(tn_loss_mutag, [0.05, 0.95], axis =0) - median_train_mutag)\n"
   ]
  },
  {
   "cell_type": "code",
   "execution_count": 40,
   "metadata": {},
   "outputs": [],
   "source": [
    "plt.rcParams.update({'font.size': 18})"
   ]
  },
  {
   "cell_type": "code",
   "execution_count": 80,
   "metadata": {},
   "outputs": [
    {
     "data": {
      "image/png": "[encoded data removed]",
      "text/plain": [
       "<matplotlib.figure.Figure at 0x7f1f4bb14208>"
      ]
     },
     "metadata": {},
     "output_type": "display_data"
    }
   ],
   "source": [
    "fig, (ax1, ax2) = plt.subplots(1, 2, figsize = [15, 6])\n",
    "#fig.suptitle(r'Maximising $TP_2$')\n",
    "\n",
    "\n",
    "train_batches = np.ceil((dl['MUTAG']-dl['MUTAG']//10)/bs['MUTAG']).astype(int)\n",
    "x = np.linspace(0, (len(median_test_mutag)-1)*train_batches, len(median_test_mutag))\n",
    "\n",
    "ax2.errorbar(x, median_test_mutag, yerr = test_errors_mutag, color = 'tab:blue', label = 'Test', capsize = 5)\n",
    "ax2.errorbar(x, median_train_mutag, yerr = train_errors_mutag, color ='tab:orange', label = 'Train', capsize = 5)\n",
    "\n",
    "ax2.set_xlabel('epochs')\n",
    "ax2.set_ylabel(r'$TP_2$')\n",
    "ax2.set_title('MUTAG')\n",
    "ax1.text(-0.15, 0.95, '(B)', horizontalalignment='center',verticalalignment='center' , fontsize=21, weight = 'bold', transform=ax2.transAxes)\n",
    "ax2.legend(loc = 4)\n",
    "\n",
    "train_batches = np.ceil((dl['COX2']-dl['COX2']//10)/bs['COX2']).astype(int)\n",
    "x = np.linspace(0, (len(median_test_cox2)-1)*train_batches, len(median_test_cox2))\n",
    "ax1.errorbar(x, median_test_cox2, yerr = test_errors_cox2, color = 'tab:blue', label = 'Test', capsize = 5)\n",
    "ax1.errorbar(x, median_train_cox2, yerr = train_errors_cox2, color ='tab:orange', label = 'Train', capsize = 5)\n",
    "\n",
    "ax1.set_xlabel('epochs')\n",
    "ax1.set_ylabel(r'$TP_2$')\n",
    "ax1.set_title('COX2')\n",
    "ax1.legend(loc = 4)\n",
    "ax1.text(-0.15, 0.95, '(A)', horizontalalignment='center',verticalalignment='center' , fontsize=21, weight = 'bold', transform=ax1.transAxes)\n",
    "\n",
    "\n",
    "#fig.tight_layout()\n",
    "\n",
    "fig.subplots_adjust(wspace = 0.25)\n",
    "plt.savefig('cox2_and_mutag_tp2.pdf', dpi = 300)"
   ]
  },
  {
   "cell_type": "raw",
   "metadata": {},
   "source": [
    "pickle.dump([tt_loss, tn_loss], open(dataset_name + '_tp2.pkl', 'wb'))"
   ]
  },
  {
   "cell_type": "code",
   "execution_count": null,
   "metadata": {},
   "outputs": [],
   "source": []
  }
 ],
 "metadata": {
  "kernelspec": {
   "display_name": "Python 3",
   "language": "python",
   "name": "python3"
  },
  "language_info": {
   "codemirror_mode": {
    "name": "ipython",
    "version": 3
   },
   "file_extension": ".py",
   "mimetype": "text/x-python",
   "name": "python",
   "nbconvert_exporter": "python",
   "pygments_lexer": "ipython3",
   "version": "3.6.10"
  }
 },
 "nbformat": 4,
 "nbformat_minor": 2
}
