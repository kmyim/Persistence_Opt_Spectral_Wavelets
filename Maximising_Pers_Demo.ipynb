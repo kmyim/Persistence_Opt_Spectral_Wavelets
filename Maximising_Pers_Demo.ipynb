{
 "cells": [
  {
   "cell_type": "markdown",
   "metadata": {},
   "source": [
    "# Demonstration: Maximising Persistence\n",
    "\n",
    "We demonstrate how we can find a spectral wavelet, parametrised by a basis of chebyshev polynomials, such that the total persistence of a graph's filtration is maximised. "
   ]
  },
  {
   "cell_type": "code",
   "execution_count": 1,
   "metadata": {},
   "outputs": [],
   "source": [
    "import numpy as np\n",
    "import networkx as nx\n",
    "\n",
    "import torch\n",
    "import torch.optim as optim\n",
    "import torch.nn as nn\n",
    "\n",
    "import numpy as np\n",
    "from scipy.linalg import eigh\n",
    "\n",
    "import pickle\n",
    "\n",
    "from models import models\n",
    "from models import utils\n",
    "import numpy.polynomial.chebyshev as cheby\n",
    "\n",
    "import matplotlib.pyplot as plt"
   ]
  },
  {
   "cell_type": "markdown",
   "metadata": {},
   "source": [
    "## Choosing a Model\n",
    "\n",
    "We consider a wavelet spanned by a degree 6 chebyshev polynomial, with coefficients normalised to 1. We truncate the barcode to the 25 most persistent intervals as a computational necessity"
   ]
  },
  {
   "cell_type": "code",
   "execution_count": 2,
   "metadata": {},
   "outputs": [],
   "source": [
    "cheby_degree = 6\n",
    "max_intervals = 25"
   ]
  },
  {
   "cell_type": "markdown",
   "metadata": {},
   "source": [
    "## Loading the data\n"
   ]
  },
  {
   "cell_type": "code",
   "execution_count": 3,
   "metadata": {},
   "outputs": [
    {
     "name": "stdout",
     "output_type": "stream",
     "text": [
      "The MUTAG dataset has  188  graphs.\n"
     ]
    }
   ],
   "source": [
    "dataset_name = 'MUTAG'\n",
    "\n",
    "graph_list = pickle.load(open('data_example/' + dataset_name + '/networkx_graphs.pkl', 'rb'))\n",
    "\n",
    "print('The ' + dataset_name + ' dataset has ', len(graph_list), ' graphs.')"
   ]
  },
  {
   "cell_type": "markdown",
   "metadata": {},
   "source": [
    "## Preprocess the data\n",
    "\n",
    "The ChebyshevWavelets pytorch module takes in a list of dictionaries, each dictionary representing the necessary data to compute spectral wavelets.\n",
    "\n",
    "The dictionary contains the following fields:\n",
    "- 'chebyshev': an intermediary matrix (num vertices) x (chebyshev degree) for computations; the vertex values of the filtration are given by the product of this matrix with the vector of chebyshev coefficients\n",
    "- 'simplex_tree': the Gudhi representation of a simplicial complex"
   ]
  },
  {
   "cell_type": "code",
   "execution_count": 4,
   "metadata": {},
   "outputs": [
    {
     "name": "stdout",
     "output_type": "stream",
     "text": [
      "Finished initial processing\n"
     ]
    }
   ],
   "source": [
    "data = []\n",
    "for i in range(len(graph_list)):\n",
    "    \n",
    "    G = graph_list[i]\n",
    "    datum = dict()\n",
    "    L = nx.normalized_laplacian_matrix(G)\n",
    "    w, v = eigh(L.todense()) #computes eigenvalues w and eigenvectors\n",
    "    vandermonde = cheby.chebvander(w.flatten()-1, cheby_degree)\n",
    "    datum['chebyshev'] = torch.from_numpy(np.matmul(v**2, vandermonde[:, 1:])).float()\n",
    "\n",
    "    hks = np.matmul(v**2,  np.exp(-0.1*w)).flatten() #random initial filtration for the simplex_tree\n",
    "    st = utils.simplex_tree_constructor([list(e) for e in G.edges()])\n",
    "    datum['simplex_tree'] = utils.filtration_update(st, hks)\n",
    "    data.append(datum)\n",
    "print('Finished initial processing')\n",
    "del graph_list\n"
   ]
  },
  {
   "cell_type": "markdown",
   "metadata": {},
   "source": [
    "## Experiment Design\n",
    "\n",
    "### Tenfolding\n",
    "\n",
    "We find a set of chebyshev coefficients that maximise the average $L^2$-persistence of the graph barcodes across the dataset\n",
    "\n",
    "We perform a ten-fold cross validation. In a ten-fold, we randomly partition the dataset into 10 portions. We perform the maximisation across 9 portions and then validate the learnt parameters on the remaining portion. We cycle through the ten portions so that each portion is the validation set once.\n",
    "\n",
    "Normally in machine learning practices, we conduct 10 ten-folds and average across all 100 validation measures, but in the interest of time we only perform one ten-fold in this demo."
   ]
  },
  {
   "cell_type": "code",
   "execution_count": 5,
   "metadata": {},
   "outputs": [],
   "source": [
    "data_len = len(data)\n",
    "test_size = data_len // 10\n",
    "train_size = data_len - test_size"
   ]
  },
  {
   "cell_type": "markdown",
   "metadata": {},
   "source": [
    "### Optimisation using PyTorch tools\n",
    "We specify the batch size and the number of epochs. We use stochastic gradient descent."
   ]
  },
  {
   "cell_type": "code",
   "execution_count": 6,
   "metadata": {},
   "outputs": [
    {
     "name": "stdout",
     "output_type": "stream",
     "text": [
      "num points =  188  number of batches =  9  batch size =  20  test size  18\n"
     ]
    }
   ],
   "source": [
    "### training parameters #####\n",
    "batch_size = 20\n",
    "train_batches = np.ceil((data_len-test_size)/batch_size).astype(int)\n",
    "max_epoch = 25\n",
    "\n",
    "print('num points = ', data_len, ' number of batches = ', train_batches, ' batch size = ', batch_size, ' test size ', test_size)"
   ]
  },
  {
   "cell_type": "code",
   "execution_count": 11,
   "metadata": {},
   "outputs": [
    {
     "name": "stdout",
     "output_type": "stream",
     "text": [
      "> fold  0\n",
      "0 [0.19036105, -0.4159127, -0.23757598, -0.18465443, 0.23188566, -0.21285376]\n",
      "train:  1.2047864\n",
      "test:  1.0679982\n",
      "5 [0.11450073, -0.5557092, -0.14290018, 0.053557545, 0.14105015, -0.18975982]\n",
      "train:  3.4869852\n",
      "test:  3.1525507\n",
      "10 [0.042884927, -0.56621563, -0.053521603, 0.24313955, 0.05292596, -0.12380713]\n",
      "train:  4.9112477\n",
      "test:  4.481274\n",
      "15 [0.01358191, -0.544202, -0.016950613, 0.31491297, 0.015912464, -0.082236245]\n",
      "train:  5.1722\n",
      "test:  4.7312784\n",
      "20 [0.0041911765, -0.53321284, -0.0052307085, 0.33848995, 0.003809475, -0.062432274]\n",
      "train:  5.2066092\n",
      "test:  4.76382\n",
      "> fold  1\n",
      "0 [0.19064935, -0.41512036, -0.23793578, -0.1854364, 0.23228288, -0.21259479]\n",
      "train:  1.1632358\n",
      "test:  1.3824201\n",
      "5 [0.11697026, -0.55390686, -0.14598213, 0.04852177, 0.1444319, -0.1897299]\n",
      "train:  3.3618822\n",
      "test:  3.7908945\n",
      "10 [0.04497425, -0.566393, -0.05612911, 0.24099313, 0.055955138, -0.123679295]\n",
      "train:  4.8138804\n",
      "test:  5.2415457\n",
      "15 [0.01452461, -0.5438004, -0.018127114, 0.3156221, 0.017540457, -0.08110908]\n",
      "train:  5.093518\n",
      "test:  5.4725094\n",
      "20 [0.004560979, -0.53217167, -0.0056922277, 0.3403135, 0.0047196294, -0.060865346]\n",
      "train:  5.131017\n",
      "test:  5.4862833\n",
      "> fold  2\n",
      "0 [0.19043964, -0.4156862, -0.23767407, -0.18465032, 0.2320108, -0.21297814]\n",
      "train:  1.1944056\n",
      "test:  1.1535326\n",
      "5 [0.114834204, -0.5549183, -0.14331633, 0.054788187, 0.14156269, -0.19083233]\n",
      "train:  3.482686\n",
      "test:  3.2079842\n",
      "10 [0.042968065, -0.5648255, -0.05362535, 0.24570575, 0.05320218, -0.12496639]\n",
      "train:  4.921549\n",
      "test:  4.439706\n",
      "15 [0.013571906, -0.5423761, -0.016938126, 0.3177932, 0.016127674, -0.083298266]\n",
      "train:  5.1847854\n",
      "test:  4.6376348\n",
      "20 [0.0041763163, -0.5312021, -0.00521216, 0.34141436, 0.0040541883, -0.06378189]\n",
      "train:  5.2190776\n",
      "test:  4.653982\n",
      "> fold  3\n",
      "0 [0.19053037, -0.41526842, -0.2377873, -0.18528238, 0.2321172, -0.2129012]\n",
      "train:  1.1789061\n",
      "test:  1.2530942\n",
      "5 [0.11628274, -0.5536778, -0.1451242, 0.049348794, 0.14346457, -0.19202308]\n",
      "train:  3.3880672\n",
      "test:  3.619231\n",
      "10 [0.044508766, -0.565627, -0.055548202, 0.24125727, 0.05549257, -0.1272633]\n",
      "train:  4.827375\n",
      "test:  5.0990963\n",
      "15 [0.014337875, -0.5432549, -0.017894082, 0.31555527, 0.017577564, -0.0849942]\n",
      "train:  5.103112\n",
      "test:  5.3609333\n",
      "20 [0.004492521, -0.53177804, -0.005606797, 0.34024632, 0.005008116, -0.064539775]\n",
      "train:  5.1404457\n",
      "test:  5.388066\n",
      "> fold  4\n",
      "0 [0.19033645, -0.41607344, -0.2375453, -0.18424888, 0.23188077, -0.21296294]\n",
      "train:  1.2102848\n",
      "test:  1.0402128\n",
      "5 [0.11375778, -0.5558783, -0.14197294, 0.057521798, 0.14028421, -0.18995753]\n",
      "train:  3.5425375\n",
      "test:  2.9196265\n",
      "10 [0.042004056, -0.5647785, -0.052422266, 0.24731795, 0.05217611, -0.12343118]\n",
      "train:  4.973263\n",
      "test:  4.0542355\n",
      "15 [0.013129994, -0.54268724, -0.016386617, 0.3177025, 0.01596419, -0.08201979]\n",
      "train:  5.226852\n",
      "test:  4.251009\n",
      "20 [0.0040029804, -0.53194785, -0.004995836, 0.34051317, 0.0043514967, -0.062631875]\n",
      "train:  5.2593493\n",
      "test:  4.273143\n",
      "> fold  5\n",
      "0 [0.19039771, -0.41564992, -0.23762177, -0.18470971, 0.23200777, -0.21309575]\n",
      "train:  1.1989028\n",
      "test:  1.1087496\n",
      "5 [0.11505316, -0.553794, -0.14358965, 0.05258866, 0.14201437, -0.1939162]\n",
      "train:  3.447842\n",
      "test:  3.3242111\n",
      "10 [0.043553285, -0.564343, -0.05435575, 0.24268246, 0.05414482, -0.13169377]\n",
      "train:  4.8620896\n",
      "test:  4.8028493\n",
      "15 [0.013943237, -0.54217136, -0.017401561, 0.3156111, 0.01668013, -0.091842666]\n",
      "train:  5.1255994\n",
      "test:  5.11326\n",
      "20 [0.004348026, -0.5309772, -0.005426461, 0.33984897, 0.004313156, -0.07283458]\n",
      "train:  5.160521\n",
      "test:  5.170811\n",
      "> fold  6\n",
      "0 [0.19058281, -0.4151556, -0.23785277, -0.18534009, 0.23216227, -0.21289808]\n",
      "train:  1.1719134\n",
      "test:  1.3101424\n",
      "5 [0.11681765, -0.553171, -0.14579177, 0.04737972, 0.14386114, -0.19276774]\n",
      "train:  3.3504164\n",
      "test:  3.8011775\n",
      "10 [0.04520292, -0.5662554, -0.056414522, 0.23829852, 0.055791464, -0.1290924]\n",
      "train:  4.775923\n",
      "test:  5.450253\n",
      "15 [0.014727821, -0.54423034, -0.018380737, 0.31314966, 0.017320126, -0.08724695]\n",
      "train:  5.0542245\n",
      "test:  5.7785354\n",
      "20 [0.0046655484, -0.5326139, -0.005822736, 0.338386, 0.004446088, -0.06705735]\n",
      "train:  5.0924444\n",
      "test:  5.827013\n",
      "> fold  7\n",
      "0 [0.1904031, -0.4158757, -0.23762846, -0.18485798, 0.231949, -0.21257856]\n",
      "train:  1.1983833\n",
      "test:  1.1158566\n",
      "5 [0.11521181, -0.55528533, -0.14378762, 0.05041815, 0.14196141, -0.18995468]\n",
      "train:  3.4353147\n",
      "test:  3.3849578\n",
      "10 [0.043772254, -0.5670184, -0.054629, 0.23940857, 0.054186694, -0.1257956]\n",
      "train:  4.8448143\n",
      "test:  4.933753\n",
      "15 [0.014066368, -0.54507256, -0.017555218, 0.31239957, 0.016775077, -0.08526583]\n",
      "train:  5.1096277\n",
      "test:  5.266815\n",
      "20 [0.0044019604, -0.5338033, -0.005493766, 0.3367937, 0.0043666596, -0.06592863]\n",
      "train:  5.145152\n",
      "test:  5.3259816\n",
      "> fold  8\n",
      "0 [0.19049403, -0.41550848, -0.23774196, -0.18497759, 0.23194721, -0.21297695]\n",
      "train:  1.1857625\n",
      "test:  1.2139002\n",
      "5 [0.11559396, -0.5542346, -0.14426452, 0.051666275, 0.14197294, -0.19208248]\n",
      "train:  3.4297442\n",
      "test:  3.4451861\n",
      "10 [0.043846454, -0.5651578, -0.05472159, 0.24282435, 0.053967725, -0.12773882]\n",
      "train:  4.8620014\n",
      "test:  4.8513284\n",
      "15 [0.014026608, -0.5426793, -0.017505584, 0.3163011, 0.016577777, -0.086374104]\n",
      "train:  5.131198\n",
      "test:  5.103324\n",
      "20 [0.00436795, -0.5311818, -0.0054513174, 0.34080726, 0.0042751115, -0.06671817]\n",
      "train:  5.1671953\n",
      "test:  5.132887\n",
      "> fold  9\n",
      "0 [0.19056958, -0.4151786, -0.23783623, -0.18536086, 0.23212749, -0.21290381]\n",
      "train:  1.1734666\n",
      "test:  1.2964004\n",
      "5 [0.11676984, -0.55353075, -0.14573209, 0.04697733, 0.14370683, -0.19202054]\n",
      "train:  3.3515747\n",
      "test:  3.7887137\n",
      "10 [0.045194443, -0.5669145, -0.05640397, 0.23731913, 0.05572396, -0.12801836]\n",
      "train:  4.7726426\n",
      "test:  5.4654417\n",
      "15 [0.014740066, -0.54514205, -0.018396026, 0.3118515, 0.017414257, -0.08613661]\n",
      "train:  5.04916\n",
      "test:  5.816759\n",
      "20 [0.004674818, -0.53366363, -0.005834307, 0.3369762, 0.004475821, -0.06574415]\n",
      "train:  5.087376\n",
      "test:  5.872148\n"
     ]
    }
   ],
   "source": [
    "####### torch random seeds #######\n",
    "shuffidx = list(range(data_len)) # data indexer\n",
    "\n",
    "torch.manual_seed(99)\n",
    "rng_state= torch.get_rng_state() #seed init to ensure same initial conditions for each training\n",
    "\n",
    "p_tracker = []\n",
    "tt_loss = []\n",
    "tn_loss = []\n",
    "\n",
    "for fold in range(10):\n",
    "    print ('> fold ', fold)\n",
    "\n",
    "    param_tracker = []\n",
    "    test_loss = []\n",
    "    train_loss = []\n",
    "\n",
    "    test_bottom = fold * test_size\n",
    "    test_top = (1+fold) * test_size\n",
    "    test_indices = shuffidx[test_bottom : test_top]\n",
    "    train_indices = shuffidx[0:test_bottom] + shuffidx[test_top :]\n",
    "\n",
    "    torch.set_rng_state(rng_state) #fix init state\n",
    "    barcodes = models.ChebyshevWavelets(cheby_degree = cheby_degree, max_intervals = max_intervals)\n",
    "    param_tracker.append(list(barcodes.cheby_params.detach().flatten().numpy()))\n",
    "\n",
    "    optimizer = optim.SGD(barcodes.parameters(), lr=1e-3, weight_decay = 0.0)\n",
    "\n",
    "    for epoch in range(max_epoch):\n",
    "        \n",
    "        barcodes.train()\n",
    "        np.random.shuffle(train_indices)\n",
    "        for b in range(train_batches):\n",
    "\n",
    "            train_indices_batch = train_indices[b*batch_size : (b+1)*batch_size ]\n",
    "            optimizer.zero_grad()\n",
    "            births, deaths = barcodes([data[i] for i in train_indices])\n",
    "            loss = -torch.sum((deaths - births)**2)/train_size\n",
    "            loss.backward()\n",
    "            \n",
    "            optimizer.step()\n",
    "\n",
    "        barcodes.eval()\n",
    "        param_tracker.append(list(barcodes.cheby_params.detach().flatten().numpy()))\n",
    "\n",
    "\n",
    "        barcodes.eval()\n",
    "        b,d = barcodes([data[i] for i in train_indices])\n",
    "        tnl = torch.sum((d- b)**2)/train_size\n",
    "        b,d  = barcodes([data[i] for i in test_indices])\n",
    "        ttl = torch.sum((d- b)**2)/test_size\n",
    "        test_loss.append(ttl.detach().numpy())\n",
    "        train_loss.append(tnl.detach().numpy())\n",
    "        \n",
    "        if epoch % 5 == 0:\n",
    "            print(epoch, param_tracker[-1])\n",
    "            print('train: ', train_loss[-1])\n",
    "            print('test: ',test_loss[-1])\n",
    "\n",
    "    p_tracker.append(param_tracker)\n",
    "    tt_loss.append(test_loss)\n",
    "    tn_loss.append(train_loss)"
   ]
  },
  {
   "cell_type": "code",
   "execution_count": 12,
   "metadata": {},
   "outputs": [],
   "source": [
    "tt_loss = np.array(tt_loss)\n",
    "tn_loss = np.array(tn_loss)"
   ]
  },
  {
   "cell_type": "code",
   "execution_count": 13,
   "metadata": {},
   "outputs": [],
   "source": [
    "mean_test = np.mean(tt_loss, axis=0)\n",
    "std_test = np.std(tt_loss, axis=0)\n",
    "\n",
    "mean_train =np.mean(tn_loss, axis=0)\n",
    "std_train = np.std(tn_loss, axis=0)\n"
   ]
  },
  {
   "cell_type": "markdown",
   "metadata": {},
   "source": [
    "We see that the optimisation has converged to a local optimum and the test "
   ]
  },
  {
   "cell_type": "code",
   "execution_count": 20,
   "metadata": {},
   "outputs": [
    {
     "data": {
      "text/plain": [
       "<matplotlib.legend.Legend at 0x7f0b127507f0>"
      ]
     },
     "execution_count": 20,
     "metadata": {},
     "output_type": "execute_result"
    },
    {
     "data": {
      "image/png": "[encoded data removed]",
      "text/plain": [
       "<matplotlib.figure.Figure at 0x7f0b11e25400>"
      ]
     },
     "metadata": {},
     "output_type": "display_data"
    }
   ],
   "source": [
    "plt.plot(mean_test, label = 'test mean')\n",
    "plt.plot(mean_train, label = 'train mean')\n",
    "plt.xlabel('epochs')\n",
    "plt.ylabel('L2 persistence')\n",
    "for i in range(10):\n",
    "    plt.plot(tt_loss[i], '.', color = 'tab:blue')\n",
    "    plt.plot(tn_loss[i], '.', color = 'tab:orange')\n",
    "plt.legend()"
   ]
  },
  {
   "cell_type": "code",
   "execution_count": null,
   "metadata": {},
   "outputs": [],
   "source": []
  }
 ],
 "metadata": {
  "kernelspec": {
   "display_name": "Python 3",
   "language": "python",
   "name": "python3"
  },
  "language_info": {
   "codemirror_mode": {
    "name": "ipython",
    "version": 3
   },
   "file_extension": ".py",
   "mimetype": "text/x-python",
   "name": "python",
   "nbconvert_exporter": "python",
   "pygments_lexer": "ipython3",
   "version": "3.6.10"
  }
 },
 "nbformat": 4,
 "nbformat_minor": 2
}
