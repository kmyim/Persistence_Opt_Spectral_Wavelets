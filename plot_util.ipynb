{
 "cells": [
  {
   "cell_type": "code",
   "execution_count": 1,
   "metadata": {},
   "outputs": [],
   "source": [
    "import matplotlib.pyplot as plt\n",
    "import pickle\n",
    "import copy\n",
    "import numpy as np\n",
    "import numpy.polynomial.chebyshev as cheby\n",
    "import networkx as nx"
   ]
  },
  {
   "cell_type": "code",
   "execution_count": 2,
   "metadata": {},
   "outputs": [],
   "source": [
    "def moving_average(a, n=10):\n",
    "    ret = np.cumsum(a, dtype = float, axis = -1)\n",
    "    ret[:, n:] = ret[:, n:] - ret[:, :-n]\n",
    "    return ret[:,n-1:]/n"
   ]
  },
  {
   "cell_type": "code",
   "execution_count": 248,
   "metadata": {},
   "outputs": [],
   "source": [
    "dataset_name = 'IMDB-BINARY'\n",
    "expt_name = 'rbf12_diag_double_picnn_eigsig_bugfix_static'\n",
    "results_dir = 'ten10folds/' + dataset_name + '/' + expt_name "
   ]
  },
  {
   "cell_type": "code",
   "execution_count": 249,
   "metadata": {},
   "outputs": [],
   "source": [
    "#max_epoch = 500\n",
    "#sampling_freq = 100\n",
    "#start_sample = 99\n",
    "#result_dump = 'ten10folds/' + dataset_name + '/PL/' + expt_name + '/' + expt_name + '_'\n",
    "result_dump = 'ten10folds/' + dataset_name + '/' + expt_name + '/' + expt_name + '_'\n"
   ]
  },
  {
   "cell_type": "code",
   "execution_count": 312,
   "metadata": {},
   "outputs": [],
   "source": [
    "max_runs, max_folds = 1,10\n",
    "\n",
    "min_runs = 0\n",
    "\n",
    "runs = range(min_runs, max_runs)\n",
    "folds = range(max_folds)\n",
    "\n",
    "train = []\n",
    "test = []\n",
    "loss = []\n",
    "filt = []\n",
    "train_reg = []\n",
    "test_reg =[]\n",
    "dtheta = []\n",
    "theta = []\n",
    "\n",
    "for run in runs:\n",
    "\n",
    "    for fold in folds:\n",
    "        run_fold_index = str(run) + '_' + str(fold)  + '.pkl'\n",
    "        train.append(pickle.load(open(result_dump + 'train_acc_' + run_fold_index, 'rb')))\n",
    "        test.append(pickle.load(open(result_dump + 'test_acc_' + run_fold_index, 'rb')))\n",
    "        loss.append(pickle.load(open(result_dump + 'loss_' + run_fold_index, 'rb')))\n",
    "        #train_reg.append(pickle.load(open(result_dump + 'train_reg_' + run_fold_index, 'rb')))\n",
    "        #test_reg.append(pickle.load(open(result_dump + 'test_reg_' + run_fold_index, 'rb')))\n",
    "        #dtheta.append(pickle.load(open(result_dump + 'dtheta_' + run_fold_index, 'rb')))\n",
    "        theta.append(np.array(pickle.load(open(result_dump + 'theta_' + run_fold_index, 'rb'))))\n",
    "        #filt.append(pickle.load(open(result_dump + 'learnt_filter_' + run_fold_index, 'rb')))\n"
   ]
  },
  {
   "cell_type": "code",
   "execution_count": 313,
   "metadata": {},
   "outputs": [
    {
     "data": {
      "text/plain": [
       "0"
      ]
     },
     "execution_count": 313,
     "metadata": {},
     "output_type": "execute_result"
    }
   ],
   "source": [
    "run"
   ]
  },
  {
   "cell_type": "code",
   "execution_count": 314,
   "metadata": {},
   "outputs": [
    {
     "name": "stdout",
     "output_type": "stream",
     "text": [
      "(10, 0)\n",
      "(10, 0)\n"
     ]
    }
   ],
   "source": [
    "theta = np.array(theta)\n",
    "print(theta.shape)\n",
    "theta = np.reshape(theta, theta.shape[0:3])\n",
    "print(theta.shape)"
   ]
  },
  {
   "cell_type": "code",
   "execution_count": 315,
   "metadata": {},
   "outputs": [],
   "source": [
    "epochs = np.arange(theta.shape[1])"
   ]
  },
  {
   "cell_type": "code",
   "execution_count": 316,
   "metadata": {},
   "outputs": [],
   "source": [
    "for k in range(theta.shape[-1]):\n",
    "    plt.plot(theta[-1,:,k] - theta[-1, 0, k])\n",
    "#plt.ylim([-0.075, 0.075])"
   ]
  },
  {
   "cell_type": "raw",
   "metadata": {},
   "source": [
    "j = 9\n",
    "ma_loss = moving_average(loss[j], n = 22)[0::22]\n",
    "ma_train = moving_average(train[j], n = 22)[0::22]\n",
    "ma_dtheta = moving_average(dtheta[j], n = 22)[0::22]\n",
    "print(len(ma_loss), max(ma_train), len(ma_dtheta))"
   ]
  },
  {
   "cell_type": "raw",
   "metadata": {},
   "source": [
    "plt.plot(ma_train)\n",
    "plt.plot(ma_loss)\n",
    "#plt.plot(test[0])"
   ]
  },
  {
   "cell_type": "raw",
   "metadata": {},
   "source": [
    "plt.plot(test[j])\n",
    "plt.plot(ma_dtheta/10)"
   ]
  },
  {
   "cell_type": "raw",
   "metadata": {},
   "source": [
    "plt.plot(np.array(dtheta[1][0::22])/10)"
   ]
  },
  {
   "cell_type": "raw",
   "metadata": {},
   "source": [
    "plt.plot(dtheta[0][0::22])"
   ]
  },
  {
   "cell_type": "raw",
   "metadata": {},
   "source": [
    "len(ma_train)"
   ]
  },
  {
   "cell_type": "code",
   "execution_count": 317,
   "metadata": {},
   "outputs": [],
   "source": [
    "train = np.reshape(np.array(train), [(max_runs- min_runs)*max_folds, -1])\n",
    "test = np.reshape(np.array(test), [(max_runs- min_runs)*max_folds, -1])\n",
    "loss = np.reshape(np.array(loss), [(max_runs- min_runs)*max_folds, -1])\n",
    "#loss = np.reshape(np.array(loss), [max_runs*max_folds, -1])"
   ]
  },
  {
   "cell_type": "code",
   "execution_count": 318,
   "metadata": {},
   "outputs": [],
   "source": [
    "cheat_tq75 = np.quantile(np.mean(np.reshape(test, [(max_runs- min_runs), max_folds, -1]), axis=1), 0.75, axis=0)\n",
    "cheat_tq25 = np.quantile(np.mean(np.reshape(test, [(max_runs- min_runs), max_folds, -1]), axis=1), 0.25, axis=0)\n",
    "cheat_std = np.std(np.mean(np.reshape(test, [(max_runs- min_runs), max_folds, -1]), axis=1), axis=0)"
   ]
  },
  {
   "cell_type": "code",
   "execution_count": 319,
   "metadata": {},
   "outputs": [
    {
     "data": {
      "text/plain": [
       "[<matplotlib.lines.Line2D at 0x123ec8f10>]"
      ]
     },
     "execution_count": 319,
     "metadata": {},
     "output_type": "execute_result"
    },
    {
     "data": {
      "image/png": "[encoded data removed]",
      "text/plain": [
       "<Figure size 432x288 with 1 Axes>"
      ]
     },
     "metadata": {
      "needs_background": "light"
     },
     "output_type": "display_data"
    }
   ],
   "source": [
    "for t in loss:\n",
    "    plt.plot(t, 'k-', alpha = 0.1)\n",
    "plt.plot(np.median(loss, axis = 0), 'r')\n",
    "#plt.ylim([0.4,0.95])\n",
    "#plt.savefig('max_pers_train_fog.pdf', dpi=300)"
   ]
  },
  {
   "cell_type": "code",
   "execution_count": 320,
   "metadata": {},
   "outputs": [
    {
     "data": {
      "text/plain": [
       "0.027021957288185756"
      ]
     },
     "execution_count": 320,
     "metadata": {},
     "output_type": "execute_result"
    }
   ],
   "source": [
    "np.median(loss, axis = 0)[-1]"
   ]
  },
  {
   "cell_type": "code",
   "execution_count": 321,
   "metadata": {},
   "outputs": [
    {
     "data": {
      "text/plain": [
       "(0.688, 0.7392222222222223, 0.7323333333333334)"
      ]
     },
     "execution_count": 321,
     "metadata": {},
     "output_type": "execute_result"
    }
   ],
   "source": [
    "max(np.mean(test, axis = 0)), max(np.mean(train, axis = 0)),  np.mean(train, axis = 0)[-1]"
   ]
  },
  {
   "cell_type": "code",
   "execution_count": 322,
   "metadata": {},
   "outputs": [
    {
     "data": {
      "text/plain": [
       "[<matplotlib.lines.Line2D at 0x1237b6f50>]"
      ]
     },
     "execution_count": 322,
     "metadata": {},
     "output_type": "execute_result"
    },
    {
     "data": {
      "image/png": "[encoded data removed]",
      "text/plain": [
       "<Figure size 432x288 with 1 Axes>"
      ]
     },
     "metadata": {
      "needs_background": "light"
     },
     "output_type": "display_data"
    }
   ],
   "source": [
    "for t in train:\n",
    "    plt.plot( t, 'k-', alpha = 0.1)\n",
    "plt.plot(np.median(train, axis = 0), 'r')"
   ]
  },
  {
   "cell_type": "code",
   "execution_count": 323,
   "metadata": {},
   "outputs": [
    {
     "data": {
      "text/plain": [
       "<matplotlib.legend.Legend at 0x1238f1910>"
      ]
     },
     "execution_count": 323,
     "metadata": {},
     "output_type": "execute_result"
    },
    {
     "data": {
      "image/png": "[encoded data removed]",
      "text/plain": [
       "<Figure size 432x288 with 1 Axes>"
      ]
     },
     "metadata": {
      "needs_background": "light"
     },
     "output_type": "display_data"
    }
   ],
   "source": [
    "max_epoch = 200\n",
    "epoch_samples = [k for k in [0, 24, 49, 74, 99, 124, 149, 174, 199] if k < max_epoch]\n",
    "#epoch_samples = [0, 24, 49, 74, 99, ]\n",
    "#epoch_samples = [0, 24, 49, 99, 199, 299]\n",
    "plt.plot(epoch_samples,np.median(test, axis = 0), 'r.-', label = 'median')\n",
    "plt.plot(epoch_samples,np.mean(test, axis = 0), 'b.-', label = 'mean')\n",
    "plt.legend()\n",
    "#plt.ylim([0.7,0.81])\n",
    "#plt.savefig('max_pers_train_fog.pdf', dpi=300)"
   ]
  },
  {
   "cell_type": "code",
   "execution_count": 324,
   "metadata": {},
   "outputs": [
    {
     "data": {
      "text/plain": [
       "<matplotlib.legend.Legend at 0x12293afd0>"
      ]
     },
     "execution_count": 324,
     "metadata": {},
     "output_type": "execute_result"
    },
    {
     "data": {
      "image/png": "[encoded data removed]",
      "text/plain": [
       "<Figure size 432x288 with 1 Axes>"
      ]
     },
     "metadata": {
      "needs_background": "light"
     },
     "output_type": "display_data"
    }
   ],
   "source": [
    "plt.plot(np.median(train, axis = 0), '.-', label = ' train median')\n",
    "plt.plot(np.mean(train, axis = 0), '.-', label = 'train mean')\n",
    "plt.plot(epoch_samples,np.median(test, axis = 0), '.-', label = 'test median')\n",
    "plt.plot(epoch_samples,np.mean(test, axis = 0), '.-', label = 'test mean')\n",
    "plt.legend()\n",
    "plt.legend()"
   ]
  },
  {
   "cell_type": "code",
   "execution_count": 325,
   "metadata": {},
   "outputs": [
    {
     "data": {
      "image/png": "[encoded data removed]",
      "text/plain": [
       "<Figure size 432x288 with 1 Axes>"
      ]
     },
     "metadata": {
      "needs_background": "light"
     },
     "output_type": "display_data"
    }
   ],
   "source": [
    "for t in test:\n",
    "    plt.plot(epoch_samples, t, 'k.-', alpha = 0.2)\n",
    "#plt.ylim([0.375,0.575]);\n",
    "#plt.savefig('max_pers_train_fog.pdf', dpi=300)"
   ]
  },
  {
   "cell_type": "code",
   "execution_count": 326,
   "metadata": {},
   "outputs": [
    {
     "data": {
      "image/png": "[encoded data removed]",
      "text/plain": [
       "<Figure size 432x288 with 1 Axes>"
      ]
     },
     "metadata": {
      "needs_background": "light"
     },
     "output_type": "display_data"
    }
   ],
   "source": [
    "for t in test:\n",
    "    plt.plot(epoch_samples[1:], np.diff(t), 'k.-', alpha = 0.2)\n",
    "#plt.ylim([0.375,0.575]);\n",
    "#plt.savefig('max_pers_train_fog.pdf', dpi=300)"
   ]
  },
  {
   "cell_type": "code",
   "execution_count": 327,
   "metadata": {},
   "outputs": [],
   "source": [
    "train_mean = np.mean(train, axis = 0)\n",
    "\n",
    "test_mean = np.mean(test, axis = 0)\n",
    "test_std = np.std(test, axis=0)\n",
    "loss_mean = np.mean(loss, axis = 0)\n",
    "\n",
    "train_q75 = np.quantile(train, 0.75, axis=0)\n",
    "train_q25 = np.quantile(train, 0.25, axis=0)\n",
    "\n",
    "test_q75 = np.quantile(test, 0.75, axis=0)\n",
    "test_q25 = np.quantile(test, 0.25, axis=0)\n",
    "\n",
    "loss_q75 = np.quantile(loss, 0.75, axis=0)\n",
    "loss_q25 = np.quantile(loss, 0.25, axis=0)"
   ]
  },
  {
   "cell_type": "code",
   "execution_count": 328,
   "metadata": {},
   "outputs": [
    {
     "name": "stdout",
     "output_type": "stream",
     "text": [
      "0.677 0.05496362433464518 0.0625 0.0 0.0\n",
      "0.688\n"
     ]
    }
   ],
   "source": [
    "k = -1\n",
    "print(test_mean[k], test_std[k],test_q75[k] - test_q25[k], cheat_tq75[k] - cheat_tq25[k], cheat_std[k])\n",
    "print(max(test_mean))"
   ]
  },
  {
   "cell_type": "code",
   "execution_count": 329,
   "metadata": {},
   "outputs": [
    {
     "data": {
      "text/plain": [
       "[0, 24, 49, 74, 99, 124, 149, 174, 199]"
      ]
     },
     "execution_count": 329,
     "metadata": {},
     "output_type": "execute_result"
    }
   ],
   "source": [
    "epoch_samples"
   ]
  },
  {
   "cell_type": "code",
   "execution_count": 330,
   "metadata": {},
   "outputs": [
    {
     "name": "stdout",
     "output_type": "stream",
     "text": [
      "0.688 0.677\n",
      "6 149\n",
      "0.0\n"
     ]
    }
   ],
   "source": [
    "print(max(test_mean), test_mean[-1], )\n",
    "j = np.argmax(test_mean)\n",
    "print(j,epoch_samples[j])\n",
    "print(cheat_std[j])"
   ]
  },
  {
   "cell_type": "code",
   "execution_count": 331,
   "metadata": {},
   "outputs": [
    {
     "name": "stdout",
     "output_type": "stream",
     "text": [
      "0.688 0.0 149\n",
      "0.658 0.0 174\n",
      "0.6810000000000002 0.0 124\n"
     ]
    }
   ],
   "source": [
    "j = np.argmax(test_mean)\n",
    "\n",
    "print(test_mean[j], cheat_std[j] ,epoch_samples[j])\n",
    "print(test_mean[j+1], cheat_std[j+1] ,epoch_samples[j+1])\n",
    "print(test_mean[j-1], cheat_std[j-1] ,epoch_samples[j-1])"
   ]
  },
  {
   "cell_type": "code",
   "execution_count": null,
   "metadata": {},
   "outputs": [],
   "source": []
  },
  {
   "cell_type": "code",
   "execution_count": null,
   "metadata": {},
   "outputs": [],
   "source": []
  },
  {
   "cell_type": "code",
   "execution_count": null,
   "metadata": {},
   "outputs": [],
   "source": []
  },
  {
   "cell_type": "code",
   "execution_count": null,
   "metadata": {},
   "outputs": [],
   "source": []
  },
  {
   "cell_type": "code",
   "execution_count": 309,
   "metadata": {},
   "outputs": [
    {
     "name": "stdout",
     "output_type": "stream",
     "text": [
      "0.6857142857142858 0.0 0.0\n"
     ]
    }
   ],
   "source": [
    "j = -1\n",
    "print(test_mean[j], cheat_tq75[j] - cheat_tq25[j],  cheat_std[j])"
   ]
  },
  {
   "cell_type": "code",
   "execution_count": null,
   "metadata": {},
   "outputs": [],
   "source": []
  },
  {
   "cell_type": "code",
   "execution_count": 310,
   "metadata": {},
   "outputs": [
    {
     "ename": "NameError",
     "evalue": "name 'start_sample' is not defined",
     "output_type": "error",
     "traceback": [
      "\u001b[0;31m---------------------------------------------------------------------------\u001b[0m",
      "\u001b[0;31mNameError\u001b[0m                                 Traceback (most recent call last)",
      "\u001b[0;32m<ipython-input-310-3605b8ee7c9f>\u001b[0m in \u001b[0;36m<module>\u001b[0;34m\u001b[0m\n\u001b[1;32m      1\u001b[0m \u001b[0;31m#epochs = np.arange(start_sample + sampling_freq , max_epoch + sampling_freq, sampling_freq)\u001b[0m\u001b[0;34m\u001b[0m\u001b[0;34m\u001b[0m\u001b[0;34m\u001b[0m\u001b[0m\n\u001b[0;32m----> 2\u001b[0;31m \u001b[0mepochs\u001b[0m \u001b[0;34m=\u001b[0m \u001b[0mnp\u001b[0m\u001b[0;34m.\u001b[0m\u001b[0marange\u001b[0m\u001b[0;34m(\u001b[0m\u001b[0mstart_sample\u001b[0m \u001b[0;34m,\u001b[0m \u001b[0mmax_epoch\u001b[0m \u001b[0;34m,\u001b[0m \u001b[0msampling_freq\u001b[0m\u001b[0;34m)\u001b[0m\u001b[0;34m\u001b[0m\u001b[0;34m\u001b[0m\u001b[0m\n\u001b[0m\u001b[1;32m      3\u001b[0m \u001b[0;34m\u001b[0m\u001b[0m\n\u001b[1;32m      4\u001b[0m \u001b[0mfig\u001b[0m\u001b[0;34m,\u001b[0m \u001b[0max1\u001b[0m \u001b[0;34m=\u001b[0m \u001b[0mplt\u001b[0m\u001b[0;34m.\u001b[0m\u001b[0msubplots\u001b[0m\u001b[0;34m(\u001b[0m\u001b[0mfigsize\u001b[0m \u001b[0;34m=\u001b[0m \u001b[0;34m[\u001b[0m\u001b[0;36m10\u001b[0m\u001b[0;34m,\u001b[0m \u001b[0;36m6\u001b[0m\u001b[0;34m]\u001b[0m\u001b[0;34m)\u001b[0m\u001b[0;34m\u001b[0m\u001b[0;34m\u001b[0m\u001b[0m\n\u001b[1;32m      5\u001b[0m \u001b[0mlns1\u001b[0m \u001b[0;34m=\u001b[0m \u001b[0max1\u001b[0m\u001b[0;34m.\u001b[0m\u001b[0mplot\u001b[0m\u001b[0;34m(\u001b[0m\u001b[0mepochs\u001b[0m\u001b[0;34m,\u001b[0m \u001b[0mloss_mean\u001b[0m\u001b[0;34m,\u001b[0m \u001b[0;34m'k-'\u001b[0m\u001b[0;34m,\u001b[0m \u001b[0mlabel\u001b[0m \u001b[0;34m=\u001b[0m \u001b[0;34m'Loss'\u001b[0m\u001b[0;34m)\u001b[0m\u001b[0;34m\u001b[0m\u001b[0;34m\u001b[0m\u001b[0m\n",
      "\u001b[0;31mNameError\u001b[0m: name 'start_sample' is not defined"
     ]
    }
   ],
   "source": [
    "#epochs = np.arange(start_sample + sampling_freq , max_epoch + sampling_freq, sampling_freq)\n",
    "epochs = np.arange(start_sample , max_epoch , sampling_freq)\n",
    "\n",
    "fig, ax1 = plt.subplots(figsize = [10, 6])\n",
    "lns1 = ax1.plot(epochs, loss_mean, 'k-', label = 'Loss')\n",
    "ax1.fill_between(epochs, loss_q25, loss_q75, color = '0.65')\n",
    "#ax1.set_ylim([0.0, 1.1])\n",
    "ax1.set_xlabel('epochs')\n",
    "ax1.set_ylabel('BCE loss')\n",
    "\n",
    "\n",
    "ax2 = ax1.twinx()\n",
    "lns2 = ax2.plot(epochs, test_mean, label = 'Test')\n",
    "ax2.fill_between(epochs, test_q25, test_q75, color = '0.85')\n",
    "lns3 = ax2.plot(epochs, train_mean, label = 'Train')\n",
    "ax2.fill_between(epochs, train_q25, train_q75, color = '0.65')\n",
    "ax2.fill_between(epochs, cheat_tq25, cheat_tq75, color = '0.65')\n",
    "#ax2.set_ylim([0.45, 0.7])\n",
    "ax2.set_ylabel('Accuracy')\n",
    "\n",
    "lns = lns1+lns2+lns3\n",
    "labs = [l.get_label() for l in lns]\n",
    "ax2.legend(lns, labs)\n",
    "\n",
    "fig.tight_layout()  # otherwise the right y-label is slightly clipped\n",
    "#plt.title('hks10 Baseline')\n",
    "#plt.savefig(expt_name + '_lossacc_v_epoch.jpg', dpi=300)\n"
   ]
  },
  {
   "cell_type": "code",
   "execution_count": 311,
   "metadata": {},
   "outputs": [
    {
     "name": "stdout",
     "output_type": "stream",
     "text": [
      "[(0, 1), (1, 2), (0, 3), (3, 4), (4, 5), (3, 6), (3, 7), (3, 8), (0, 9), (9, 10), (3, 11), (3, 12), (7, 13), (3, 14), (9, 15), (3, 16), (10, 17), (9, 18), (13, 19), (19, 20), (3, 21), (3, 22), (19, 23), (3, 24), (24, 25), (7, 26), (0, 27), (3, 28), (16, 29)]\n"
     ]
    }
   ],
   "source": [
    "ts = 4110 - 411\n",
    "print(list(zip(ts % np.arange(1, 30), np.arange(1,30))))\n"
   ]
  },
  {
   "cell_type": "code",
   "execution_count": null,
   "metadata": {},
   "outputs": [],
   "source": []
  },
  {
   "cell_type": "code",
   "execution_count": null,
   "metadata": {},
   "outputs": [],
   "source": [
    "ts//20"
   ]
  },
  {
   "cell_type": "code",
   "execution_count": null,
   "metadata": {},
   "outputs": [],
   "source": [
    "np.log(0.5)/np.log(0.99)"
   ]
  },
  {
   "cell_type": "raw",
   "metadata": {},
   "source": [
    "##### directories #####\n",
    "raw = 'raw_datasets/'\n",
    "processed = 'processed_datasets/'\n",
    "result_dump = 'ten10folds/' + dataset_name + expt_name + '/' + expt_name + '_'\n",
    "\n",
    "evs = []\n",
    "##### load data #####\n",
    "\n",
    "graph_list = pickle.load(open(processed + dataset_name + '/networkx_graphs.pkl', 'rb'))\n",
    "data_len = len(graph_list)\n",
    "\n",
    "for i in range(len(graph_list)):\n",
    "    G = graph_list[i]\n",
    "    datum = dict()\n",
    "    datum['filename'] = str(i) + '.pkl'\n",
    "    L = nx.normalized_laplacian_matrix(G)\n",
    "    evs.extend(list(np.linalg.eigvalsh(L.todense())))"
   ]
  },
  {
   "cell_type": "code",
   "execution_count": null,
   "metadata": {},
   "outputs": [],
   "source": []
  },
  {
   "cell_type": "raw",
   "metadata": {},
   "source": [
    "evs.sort()\n",
    "plt.plot(evs)\n",
    "print(len(evs), len(evs) - len(set(evs)))"
   ]
  },
  {
   "cell_type": "code",
   "execution_count": null,
   "metadata": {},
   "outputs": [],
   "source": [
    "ev = np.array(sorted(list(set(evs))))\n",
    "hks = np.exp(-10*ev)\n",
    "coeff, info =  cheby.chebfit(ev-1, hks, 2, full = True)"
   ]
  },
  {
   "cell_type": "code",
   "execution_count": null,
   "metadata": {},
   "outputs": [],
   "source": [
    "hksfit = cheby.chebval(ev-1, coeff)"
   ]
  },
  {
   "cell_type": "code",
   "execution_count": null,
   "metadata": {},
   "outputs": [],
   "source": [
    "print(coeff[1:])\n",
    "print(info)"
   ]
  },
  {
   "cell_type": "raw",
   "metadata": {},
   "source": []
  },
  {
   "cell_type": "code",
   "execution_count": null,
   "metadata": {},
   "outputs": [],
   "source": [
    "coeff[0] = 0\n",
    "plt.plot(np.linspace(-1, 1, 100), cheby.chebval(np.linspace(-1, 1, 100), [0] + [0.6147685 , -0.17546026, -0.8692112 ,  0.37201566]))"
   ]
  },
  {
   "cell_type": "raw",
   "metadata": {},
   "source": [
    "coeff"
   ]
  },
  {
   "cell_type": "raw",
   "metadata": {},
   "source": [
    "cheby.cheb2poly(coeff)"
   ]
  },
  {
   "cell_type": "raw",
   "metadata": {},
   "source": [
    "norm_coeff = np.array([0] + list(coeff[1:]/np.sqrt(np.sum(coeff[1:]**2))))\n",
    "plt.plot(np.linspace(-1, 1, 100), cheby.chebval(np.linspace(-1, 1, 100), norm_coeff))"
   ]
  },
  {
   "cell_type": "raw",
   "metadata": {},
   "source": [
    "plt.plot(ev-1, hksfit)\n",
    "plt.plot(ev-1, hks)"
   ]
  },
  {
   "cell_type": "raw",
   "metadata": {},
   "source": [
    "train_reg = np.reshape(np.array(train_reg), [max_runs*max_folds, -1])\n",
    "test_reg = np.reshape(np.array(test_reg), [max_runs*max_folds, -1])\n",
    "filt = np.array(filt)\n",
    "#filt = (filt- np.min(filt, axis=1))/(np.max(filt, axis=1) - np.min(filt, axis=1))\n",
    "filt = np.reshape(np.array(filt), [max_runs, max_folds, -1])"
   ]
  },
  {
   "cell_type": "raw",
   "metadata": {},
   "source": [
    "train_reg_mean = np.mean(train_reg, axis =0)\n",
    "train_reg_q75 = np.quantile(train_reg, 0.75, axis=0)\n",
    "train_reg_q25 = np.quantile(train_reg, 0.25, axis=0)\n",
    "\n",
    "test_reg_mean = np.mean(test_reg, axis=0)\n",
    "test_reg_q75 = np.quantile(test_reg, 0.75, axis=0)\n",
    "test_reg_q25 = np.quantile(test_reg, 0.25, axis=0)"
   ]
  },
  {
   "cell_type": "raw",
   "metadata": {},
   "source": [
    "og_init = pickle.load(open(results_dir + '/chebyshev_wellscaled_cheby_init.pkl', 'rb')).flatten()"
   ]
  },
  {
   "cell_type": "code",
   "execution_count": null,
   "metadata": {},
   "outputs": [],
   "source": []
  },
  {
   "cell_type": "raw",
   "metadata": {},
   "source": [
    "for f in np.reshape(filt, [max_folds*max_runs, 11]):\n",
    "    plt.plot(np.arange(11), f, 'k-', alpha = 0.05)\n",
    "plt.plot(og_init, label= 'init')\n",
    "plt.legend()\n",
    "plt.title('Chebyshev 11 coefficients')\n",
    "#plt.savefig(expt_name + '_cheby11coeff.jpg', dpi=300)"
   ]
  },
  {
   "cell_type": "raw",
   "metadata": {},
   "source": [
    "mean_filt = np.mean(np.reshape(filt, [max_runs*max_folds, 11]), axis = 0)\n",
    "x = np.linspace(-1, 1, 100)\n",
    "plt.plot(x+1, cheby.chebval(x, mean_filt), 'k-')\n",
    "filt_ensemble = cheby.chebval(x, np.reshape(filt, [max_runs*max_folds, 11]).T)\n",
    "for f in filt_ensemble:\n",
    "    plt.plot(x+1, f, 'k-', alpha = 0.05)\n",
    "plt.plot(x+1, cheby.chebval(x, og_init), 'b--', label = 'init')\n",
    "plt.legend()\n",
    "plt.title('Chebyshev 11')\n",
    "#plt.savefig(expt_name + 'glambda.jpg', dpi=300)"
   ]
  },
  {
   "cell_type": "raw",
   "metadata": {},
   "source": []
  },
  {
   "cell_type": "code",
   "execution_count": null,
   "metadata": {},
   "outputs": [],
   "source": [
    "len(epochs)"
   ]
  },
  {
   "cell_type": "raw",
   "metadata": {},
   "source": [
    "plt.plot(test_reg_mean)\n",
    "plt.fill_between(epochs, test_reg_q75, test_reg_q25, color='0.85')\n",
    "plt.xlabel('epochs')\n",
    "plt.ylabel('regularisation')\n",
    "plt.title('Chebyshev 11')\n",
    "plt.savefig(expt_name + 'regulariser.jpg', dpi=300)"
   ]
  },
  {
   "cell_type": "raw",
   "metadata": {},
   "source": [
    "for t in loss:\n",
    "    plt.plot(t, 'k-', alpha = 0.01, label = str(t))\n",
    "#plt.legend()\n",
    "#plt.savefig(expt_name + '_train_acc_fog.jpg', dpi=300)"
   ]
  },
  {
   "cell_type": "raw",
   "metadata": {},
   "source": [
    "for run in runs:\n",
    "    for fold in folds:\n",
    "        plt.plot(filt[run][fold], alpha = 0.1)\n",
    "plt.plot(mean_train_v_epoch)\n"
   ]
  },
  {
   "cell_type": "code",
   "execution_count": null,
   "metadata": {},
   "outputs": [],
   "source": []
  },
  {
   "cell_type": "code",
   "execution_count": null,
   "metadata": {},
   "outputs": [],
   "source": [
    "epochs = np.arange(start_sample, max_epoch, sampling_freq)\n",
    "\n",
    "fig, ax1 = plt.subplots(figsize = [10, 6])\n",
    "lns1 = ax1.plot(epochs, train_reg_mean, 'k-', label = 'train penalty')\n",
    "lns1b = ax1.plot(epochs, test_reg_mean, 'k-', label = 'test penalty')\n",
    "\n",
    "#ax1.fill_between(epochs, train_reg_q25, train_reg_q75, color = '0.85')\n",
    "#ax1.fill_between(epochs, test_reg_q25, test_reg_q75, color = '0.85')\n",
    "#ax1.set_ylim([0.0, 1.1])\n",
    "ax1.set_xlabel('epochs')\n",
    "ax1.set_ylabel('penalty')\n",
    "\n",
    "\n",
    "ax2 = ax1.twinx()\n",
    "lns2 = ax2.plot(epochs, test_mean, label = 'Test')\n",
    "ax2.fill_between(epochs, test_q25, test_q75, color = '0.85')\n",
    "lns3 = ax2.plot(epochs, train_mean, label = 'Train')\n",
    "ax2.fill_between(epochs, train_q25, train_q75, color = '0.65')\n",
    "ax2.fill_between(epochs, cheat_tq25, cheat_tq75, color = '0.65')\n",
    "ax2.set_ylim([0.0, 1.1])\n",
    "ax2.set_ylabel('Accuracy')\n",
    "\n",
    "lns = lns1+lns2+lns3 + lns1b\n",
    "labs = [l.get_label() for l in lns]\n",
    "ax2.legend(lns, labs)\n",
    "\n",
    "fig.tight_layout()  # otherwise the right y-label is slightly clipped\n",
    "#plt.savefig(expt_name + '_lossacc_v_epoch.jpg', dpi=300)\n"
   ]
  },
  {
   "cell_type": "code",
   "execution_count": null,
   "metadata": {},
   "outputs": [],
   "source": []
  },
  {
   "cell_type": "code",
   "execution_count": null,
   "metadata": {},
   "outputs": [],
   "source": [
    "-2/np.log10(0.95)"
   ]
  },
  {
   "cell_type": "raw",
   "metadata": {},
   "source": [
    "epochs = np.arange(start_sample+ sampling_freq, max_epoch, sampling_freq)[10:]\n",
    "\n",
    "fig, ax1 = plt.subplots(figsize = [10, 8])\n",
    "lns1 = ax1.plot(epochs, loss_vol[10:], 'k-', label = 'Loss')\n",
    "#ax1.fill_between(epochs, loss_vol_q25[10:], loss_vol_q75[10:], color = '0.85')\n",
    "\n",
    "#ax1.set_ylim([0.0, 1.1])\n",
    "ax1.set_xlabel('epochs')\n",
    "ax1.set_ylabel('BCE loss vol')\n",
    "\n",
    "\n",
    "ax2 = ax1.twinx()\n",
    "lns2 = ax2.plot(epochs, test_vol[10:], label = 'Test')\n",
    "\n",
    "#ax2.fill_between(epochs, test_vol_q25[10:], test_vol_q75[10:], color = '0.65')\n",
    "lns3 = ax2.plot(epochs, train_vol[10:], label = 'Train')\n",
    "#ax2.fill_between(epochs, train_vol_q25[10:], train_vol_q75[10:], color = '0.25')\n",
    "\n",
    "#ax2.set_ylim([0.0, 1.1])\n",
    "ax2.set_ylabel('Accuracy vol')\n",
    "\n",
    "lns = lns1+lns2+lns3\n",
    "labs = [l.get_label() for l in lns]\n",
    "ax2.legend(lns, labs, ncol = 3)\n",
    "\n",
    "fig.tight_layout()  # otherwise the right y-label is slightly clipped\n",
    "#plt.savefig('lossacc_vol.jpg', dpi=300)\n"
   ]
  },
  {
   "cell_type": "code",
   "execution_count": null,
   "metadata": {},
   "outputs": [],
   "source": [
    "np.sanp.max(filt, axis=2)"
   ]
  },
  {
   "cell_type": "code",
   "execution_count": null,
   "metadata": {},
   "outputs": [],
   "source": [
    "import torch"
   ]
  },
  {
   "cell_type": "code",
   "execution_count": null,
   "metadata": {},
   "outputs": [],
   "source": [
    "control = pickle.load(open('processed_datasets/MUTAG/dummy.pkl', 'rb'))"
   ]
  },
  {
   "cell_type": "code",
   "execution_count": null,
   "metadata": {},
   "outputs": [],
   "source": [
    "\n",
    "colors = ['blue', 'red']\n",
    "plt.figure(figsize = [10, 10])\n",
    "for k in range(4):\n",
    "    plt.subplot(2,2, k+1)\n",
    "    for i in range(len(control[1])):\n",
    "        nzs = np.where(control[0][i, k, 1, :] > 0)\n",
    "        x = control[0][i, k, 0, nzs]\n",
    "        y = control[0][i, k, 1, nzs] + x\n",
    "        c = colors[int(control[1][i])]\n",
    "        plt.scatter(x,y, s = 1, c = c, alpha = 0.1)\n",
    "       # plt.xlim([0,1])\n",
    "        #plt.ylim([0,1])\n",
    "        "
   ]
  },
  {
   "cell_type": "code",
   "execution_count": null,
   "metadata": {},
   "outputs": [],
   "source": [
    "import numpy as np\n",
    "import networkx as nx\n",
    "import gudhi\n",
    "from playground import *\n",
    "import pickle\n",
    "import matplotlib.pyplot as plt"
   ]
  },
  {
   "cell_type": "code",
   "execution_count": null,
   "metadata": {},
   "outputs": [],
   "source": [
    "graphs = pickle.load(open('processed_datasets/MUTAG/networkx_graphs.pkl', 'rb'))"
   ]
  },
  {
   "cell_type": "code",
   "execution_count": null,
   "metadata": {},
   "outputs": [],
   "source": [
    "G = graphs[2]\n",
    "layout = nx.kamada_kawai_layout(G)"
   ]
  },
  {
   "cell_type": "code",
   "execution_count": null,
   "metadata": {},
   "outputs": [],
   "source": [
    "nx.draw_networkx(G, pos = layout)"
   ]
  },
  {
   "cell_type": "code",
   "execution_count": null,
   "metadata": {},
   "outputs": [],
   "source": [
    "L = nx.normalized_laplacian_matrix(G)\n",
    "A = np.eye(len(G)) - L.todense()"
   ]
  },
  {
   "cell_type": "code",
   "execution_count": null,
   "metadata": {},
   "outputs": [],
   "source": [
    "wavelet_signature = 32*np.diag(np.linalg.matrix_power(A, 6)) - 48 * np.diag(np.linalg.matrix_power(A, 4)) + 18* np.diag(np.linalg.matrix_power(A, 2)) - 1"
   ]
  },
  {
   "cell_type": "code",
   "execution_count": null,
   "metadata": {},
   "outputs": [],
   "source": [
    "def c6(x):\n",
    "    return 32*x**6 - 48*x**4 + 18*x**2 - 1"
   ]
  },
  {
   "cell_type": "code",
   "execution_count": null,
   "metadata": {},
   "outputs": [],
   "source": [
    "plt.rcParams.update({'font.size': 30})"
   ]
  },
  {
   "cell_type": "code",
   "execution_count": null,
   "metadata": {},
   "outputs": [],
   "source": [
    "plt.plot(np.linspace(0, 2, 100), c6(np.linspace(-1,1, 100)))\n",
    "plt.xlabel(r'$\\lambda$')\n",
    "plt.title(r'wavelet $g(\\lambda)$')\n",
    "plt.tight_layout()\n",
    "#plt.savefig('example_wavelet.pdf', dpi = 300)"
   ]
  },
  {
   "cell_type": "code",
   "execution_count": null,
   "metadata": {},
   "outputs": [],
   "source": [
    "wavelet_signature = (wavelet_signature - min(wavelet_signature))/(np.max(wavelet_signature) - np.min(wavelet_signature))"
   ]
  },
  {
   "cell_type": "code",
   "execution_count": null,
   "metadata": {},
   "outputs": [],
   "source": [
    "st = simplex_tree_constructor([list(e) for e in G.edges()])\n",
    "stf = filtration_update(st,wavelet_signature)\n",
    "pers = stf.persistence(homology_coeff_field = 2)\n"
   ]
  },
  {
   "cell_type": "code",
   "execution_count": null,
   "metadata": {},
   "outputs": [],
   "source": [
    "f = wavelet_signature\n",
    "diagrams = [[],[],[], []]\n",
    "pairs =  stf.persistence_pairs()\n",
    "for interval in pairs:\n",
    "    if len(interval[1]) == 0: #skip infinite bars\n",
    "        continue\n",
    "    else:\n",
    "        if len(interval[0]) == 1: #H0\n",
    "            bv = interval[0][0]\n",
    "            dv = max([v for v in interval[1] if v != 1000], key = lambda v: f[v])\n",
    "            if bv != dv:\n",
    "                if  1000 in interval[1]:\n",
    "                    diagrams[0].append((f[bv], f[dv]))\n",
    "                    print('ext')\n",
    "                else:\n",
    "                    diagrams[1].append((f[bv], f[dv]))\n",
    "        if len(interval[0]) == 2: #H1\n",
    "            dv = max([v for v in interval[0] if v != 1000], key = lambda v: f[v])\n",
    "            bv = min([v for v in interval[1] if v != 1000], key = lambda v: f[v])\n",
    "\n",
    "            if bv != dv:\n",
    "                if 1000 in interval[0]:\n",
    "                    diagrams[2].append((f[bv], f[dv]))\n",
    "                else:\n",
    "                    diagrams[3].append((f[bv], f[dv]))\n",
    "                    print(bv, dv)\n",
    "                    print(interval)\n",
    "                    \n"
   ]
  },
  {
   "cell_type": "code",
   "execution_count": null,
   "metadata": {},
   "outputs": [],
   "source": [
    "plt.figure(figsize = [4,4])\n",
    "nx.draw_networkx(G, pos = layout, node_color  = wavelet_signature, with_labels = False, )\n",
    "#nx.draw_networkx(G, pos = layout, node_color  = 'black', with_labels = False, )\n",
    "\n",
    "plt.axis('off')\n",
    "plt.tight_layout()\n",
    "#plt.savefig('graph_example_colour.pdf', dpi= 300"
   ]
  },
  {
   "cell_type": "code",
   "execution_count": null,
   "metadata": {},
   "outputs": [],
   "source": [
    "fig, (ax4, ax3,ax2, ax1) = plt.subplots(1,4, figsize= [16,4])\n",
    "ax1.axis('off')\n",
    "ax2.axis('off')\n",
    "ax3.axis('off')\n",
    "ax4.axis('off')\n",
    "#nx.draw_networkx(G, pos = layout, node_color  = wavelet_signature, with_labels = False, ax = ax1, vmin =0,vmax = 1)\n",
    "nx.draw_networkx(G, pos = layout, with_labels = False, ax = ax1, vmin =0,vmax = 1)\n",
    "ax1.apply_aspect()\n",
    "[xmin01, xmax01, ymin01, ymax01] = ax1.axis() \n",
    "\n",
    "ax2.set_xlim(xmin01, xmax01)\n",
    "ax3.set_xlim(xmin01, xmax01)\n",
    "ax4.set_xlim(xmin01, xmax01)\n",
    "ax2.set_ylim(ymin01, ymax01)\n",
    "ax3.set_ylim(ymin01, ymax01)\n",
    "ax4.set_ylim(ymin01, ymax01)\n",
    "\n",
    "sg = list(np.where(f <0.95)[0])\n",
    "#nx.draw_networkx(G.subgraph(sg) , pos = layout, node_color  = wavelet_signature[sg], with_labels = False, ax = ax2, vmin =0,vmax = 1)\n",
    "nx.draw_networkx(G.subgraph(sg) , pos = layout, with_labels = False, ax = ax2, vmin =0,vmax = 1)\n",
    "\n",
    "\n",
    "sg = list(np.where(f <0.9)[0])\n",
    "#nx.draw_networkx(G.subgraph(sg) , pos = layout, node_color  = wavelet_signature[sg], with_labels = False, ax = ax3, vmin =0,vmax = 1)\n",
    "nx.draw_networkx(G.subgraph(sg) , pos = layout, with_labels = False, ax = ax3, vmin =0,vmax = 1)\n",
    "\n",
    "sg = list(np.where(f <0.7)[0])\n",
    "#nx.draw_networkx(G.subgraph(sg) , pos = layout, node_color  = wavelet_signature[sg], with_labels = False, ax = ax4, vmin =0,vmax = 1)\n",
    "nx.draw_networkx(G.subgraph(sg) , pos = layout, with_labels = False, ax = ax4, vmin =0,vmax = 1)\n",
    "\n",
    "fig.tight_layout()\n",
    "\n",
    "#plt.savefig('examples/filtration.pdf', dpi=300)"
   ]
  },
  {
   "cell_type": "code",
   "execution_count": null,
   "metadata": {},
   "outputs": [],
   "source": [
    "sorted(f)"
   ]
  },
  {
   "cell_type": "code",
   "execution_count": null,
   "metadata": {},
   "outputs": [],
   "source": [
    "layout"
   ]
  },
  {
   "cell_type": "code",
   "execution_count": null,
   "metadata": {},
   "outputs": [],
   "source": [
    "\n",
    "plt.xlim([-1.25,1.25])\n",
    "plt.ylim([-1.25,1.25])\n",
    "plt.axis('off')"
   ]
  },
  {
   "cell_type": "code",
   "execution_count": null,
   "metadata": {},
   "outputs": [],
   "source": [
    "plt.plot(sorted(f), '.')"
   ]
  },
  {
   "cell_type": "code",
   "execution_count": null,
   "metadata": {},
   "outputs": [],
   "source": [
    "sorted(f)"
   ]
  },
  {
   "cell_type": "code",
   "execution_count": null,
   "metadata": {},
   "outputs": [],
   "source": [
    "plt.plot([x[0] for x in diagrams[1]] , [x[1] for x in diagrams[1]], '.')\n",
    "plt.xlim([min(f), max(f)])\n",
    "plt.plot([min(f), max(f)], [min(f), max(f)])\n",
    "plt.ylim([min(f), max(f)])"
   ]
  },
  {
   "cell_type": "code",
   "execution_count": null,
   "metadata": {},
   "outputs": [],
   "source": [
    "fig, ((ax1, ax2) , (ax3, ax4)) = plt.subplots(2,2, figsize= [5,5])\n",
    "j = 0\n",
    "ax1.plot([x[0] for x in diagrams[j]] , [x[1] for x in diagrams[j]], '.', c= 'tab:blue', ms = 15)\n",
    "ax1.plot([-1,2], [-1, 2])\n",
    "ax1.set_xlim([-0.05, 1.05])\n",
    "ax1.set_ylim([-0.05, 1.05])\n",
    "ax1.set_xticks([])\n",
    "ax1.set_yticks([])\n",
    "ax1.text(0.7, 0.15, r'$\\mathsf{EPH}^{\\mathsf{ext}}_0$', horizontalalignment='center', verticalalignment='center', transform=ax1.transAxes, weight = 'bold') \n",
    "\n",
    "j+= 1\n",
    "\n",
    "ax2.plot([x[0] for x in diagrams[j]] , [x[1] for x in diagrams[j]], '.', c= 'tab:blue', ms = 15)\n",
    "ax2.plot([-1,2], [-1, 2])\n",
    "ax2.set_xlim([-0.05, 1.05])\n",
    "ax2.set_ylim([-0.05, 1.05])\n",
    "ax2.set_xticks([])\n",
    "ax2.set_yticks([])\n",
    "ax2.text(0.7, 0.15, r'$\\mathsf{EPH}^{\\mathsf{ord}}_0$', horizontalalignment='center', verticalalignment='center', transform=ax2.transAxes, weight = 'bold') \n",
    "\n",
    "j+= 1\n",
    "\n",
    "ax3.plot([x[1] for x in diagrams[j]] , [x[0] for x in diagrams[j]], '.', c= 'tab:blue', ms = 15)\n",
    "ax3.set_xlim([-0.05, 1.05])\n",
    "ax3.set_ylim([-0.05, 1.05])\n",
    "ax3.plot([-1,2], [-1, 2])\n",
    "ax3.set_xticks([])\n",
    "ax3.set_yticks([])\n",
    "ax3.text(0.7, 0.15, r'$\\mathsf{EPH}^{\\mathsf{rel}}_1$', horizontalalignment='center', verticalalignment='center', transform=ax3.transAxes, weight = 'bold') \n",
    "\n",
    "j+= 1\n",
    "\n",
    "ax4.plot([x[1] for x in diagrams[j]] , [x[0] for x in diagrams[j]], '.', c= 'tab:blue', ms = 15)\n",
    "ax4.set_xlim([-0.05, 1.05])\n",
    "ax4.set_ylim([-0.05, 1.05])\n",
    "ax4.text(0.7, 0.15, r'$\\mathsf{EPH}^{\\mathsf{ext}}_1$', horizontalalignment='center', verticalalignment='center', transform=ax4.transAxes, weight = 'bold') \n",
    "\n",
    "ax4.plot([-1,2], [-1, 2])\n",
    "ax4.set_xticks([])\n",
    "ax4.set_yticks([])\n",
    "\n",
    "\n",
    "fig.tight_layout()\n",
    "#fig.subplots_adjust(wspace=0.3)\n",
    "fig.savefig('example_diagrams.pdf', dpi = 300)"
   ]
  },
  {
   "cell_type": "code",
   "execution_count": null,
   "metadata": {},
   "outputs": [],
   "source": [
    "wavelet_signature[[0,1,2,3,4,5]], wavelet_signature[6:12]"
   ]
  },
  {
   "cell_type": "code",
   "execution_count": null,
   "metadata": {},
   "outputs": [],
   "source": [
    "diagrams[3]"
   ]
  },
  {
   "cell_type": "code",
   "execution_count": null,
   "metadata": {},
   "outputs": [],
   "source": []
  }
 ],
 "metadata": {
  "kernelspec": {
   "display_name": "Python 3",
   "language": "python",
   "name": "python3"
  },
  "language_info": {
   "codemirror_mode": {
    "name": "ipython",
    "version": 3
   },
   "file_extension": ".py",
   "mimetype": "text/x-python",
   "name": "python",
   "nbconvert_exporter": "python",
   "pygments_lexer": "ipython3",
   "version": "3.7.5"
  }
 },
 "nbformat": 4,
 "nbformat_minor": 4
}
